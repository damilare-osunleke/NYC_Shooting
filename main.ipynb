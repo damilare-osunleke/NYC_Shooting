{
 "cells": [
  {
   "attachments": {},
   "cell_type": "markdown",
   "metadata": {},
   "source": [
    "##### Please follow this nbviewer link to view the project code and interactive charts: \n",
    "https://nbviewer.org/github/damilare-osunleke/NYC_Shooting/blob/main/main.ipynb"
   ]
  },
  {
   "cell_type": "markdown",
   "metadata": {},
   "source": []
  },
  {
   "attachments": {},
   "cell_type": "markdown",
   "metadata": {},
   "source": [
    "# Shootings: Gun Violence in New York City\n",
    "\n",
    "####                                    Project Description   \n",
    "####\n",
    "\n",
    "##### Goal:\n",
    "This project seeks to understand gun voilence in the city of New York, and obtain insights that can potentially help to reduce the spate of shootings in the city. To achieve this, the following questions are explored in this project:\n",
    "\n",
    "1   What has been the overall trend in shootings across the five boroughs of the city over the last 15 years?   \n",
    "2   What proportion of shootings resulted in deaths?   \n",
    "3   What are the dominan profiles of the perpetrators and victims of shootings: race, age group?    \n",
    "4   During what time of the day do most shootings occur?     \n",
    "5   Which boroughs of New York City have the worst shootings problem?   \n",
    "\n",
    "\n",
    "\n",
    "#### Motivation   \n",
    "\n",
    "In the last decade, a lot has been reported in the bedia about the epidemic of gun violence in the United States of America, particularly mass shootings. Although mass shootings recieve extensive coverage in the media, they account for only a small fraction of gun-related violence and death in the country.\n",
    "\n",
    "In 2018, the Centers for Disease Control and Prevention's (CDC) National Center for Health Statistics reports 38,390 deaths by firearm, bringing the rate of firearm death to about 12 per 100,000. [[1]](https://www.cdc.gov/injury/wisqars/pdf/leading_causes_of_injury_deaths_highlighting_violence_2018-508.pdf), [[2]](https://www.kff.org/other/state-indicator/firearms-death-rate-per-100000/?currentTimeframe=0&sortModel=%7B%22colId%22:%22Location%22,%22sort%22:%22asc%22%7D)\n",
    "\n",
    "New York City is the most populated and most densely-populated city in the United States, with its fair share of gun voilence. Many of the cases of shootings reported in the media happended in New York city. Although the city has made progress in the reduction of crime in general, and gun violence in particular, gun violence remains a serious concern. For instance, compared to London (a city with similar population), NYC had double the number of gun violence in 2021. [[3]](https://www.statista.com/statistics/865565/gun-crime-in-london/)\n",
    "\n",
    "I was motivated to carry out this project in order to better understand the dynamics of gun violence in one of the world's most popular cities.\n",
    "\n",
    "\n",
    "#### Data\n",
    "\n",
    "Three datasets were used for this project. All are publicly available of the open data platform of the City of New York and can be accessed via the links below:\n",
    "\n",
    "1) Historic records of all shootings in New York City (2006 to 2021): [NYPD Shooting Incident Data (Historic)](https://data.cityofnewyork.us/Public-Safety/NYPD-Shooting-Incident-Data-Historic-/833y-fsy8). Data provided by Police Department (NYPD)\n",
    "2) Historic and projected population of New York City by Borough: [New York City Population by Borough, 1950 - 2040](https://data.cityofnewyork.us/City-Government/New-York-City-Population-by-Borough-1950-2040/xywu-7bv9). Data provided by Department of City Planning (DCP)\n",
    "3) A map of the administrative boundaries of the the 5 boroughs of New York City: [Borough Boundaries](https://data.cityofnewyork.us/browse?q=map%20borough&sortBy=relevance). Data provided by Department of City Planning (DCP)\n",
    "\n",
    "\n",
    "Since the datasets is published by reputable government agencies, they are considered very reliable.\n",
    "\n",
    "\n",
    "##### Data Description\n",
    "Below are the features from each dataset that was used for this projects\n",
    "\n",
    "**Shooting Dataset:**   \n",
    "a) **incident_key** : Randomly generated persistent and unique ID for each incident    \n",
    "b) **occur_date** : Exact date of the shooting incident   \n",
    "c) **occur_time** : Exact time of the shooting incident      \n",
    "d) **boro** : Borough where the shooting incident occurred   \n",
    "e) **statistical_murder_flag** : whether or not the shooting resulted in the victim’s death   \n",
    "f) **perp_age_group** : Perpetrator’s age category      \n",
    "g) **perp_sex** : Perpetrator’s sex description      \n",
    "h) **perp_race** : Perpetrator’s race description   \n",
    "f) **vic_age_group** : Victim’s age within a category   \n",
    "i) **vic_sex** : Victim’s sex description   \n",
    "j) **vic_race** : Victim’s race description   \n",
    "i) **longitude** : longitudinal coordinate of the shooting location   \n",
    "j) **latitude** : latitudinal  coordinate of the shooting location   \n",
    "\n",
    "\n",
    "**Borough population dataset:**   \n",
    "a) **Borough** : New York City borough name   \n",
    "b) **2020** : Population of the borough as at the year 2020  \n",
    "\n",
    "\n",
    "**Borough Boundaries dataset:**   \n",
    "a) **boro_code** : Unique Borough code   \n",
    "b) **boro_name** : Borough name \n",
    "b) **geometry** : Polygon representing the geometry of the borough \n",
    "\n",
    "\n"
   ]
  },
  {
   "attachments": {},
   "cell_type": "markdown",
   "metadata": {},
   "source": [
    "Importing all necessary libraries"
   ]
  },
  {
   "cell_type": "code",
   "execution_count": 60,
   "metadata": {},
   "outputs": [],
   "source": [
    "import geopandas as gpd\n",
    "import pandas as pd\n",
    "import altair as alt\n",
    "import numpy as np\n",
    "from altair import datum\n"
   ]
  },
  {
   "cell_type": "code",
   "execution_count": 61,
   "metadata": {},
   "outputs": [],
   "source": [
    "import warnings\n",
    "warnings.filterwarnings('ignore')"
   ]
  },
  {
   "attachments": {},
   "cell_type": "markdown",
   "metadata": {},
   "source": [
    "Reading all cleaned files (Please refer to the file 'data_preprocessing.ipynb' for detailed data cleaning and preprocessing)"
   ]
  },
  {
   "cell_type": "code",
   "execution_count": 62,
   "metadata": {},
   "outputs": [],
   "source": [
    "shooting= pd.read_pickle('./Data/Cleaned/shooting.pkl')\n",
    "boro_pop= pd.read_pickle('./Data/Cleaned/boro_pop.pkl')\n",
    "boro_boundary= pd.read_pickle('./Data/Cleaned/boro_boundary.pkl')"
   ]
  },
  {
   "cell_type": "code",
   "execution_count": 63,
   "metadata": {},
   "outputs": [
    {
     "name": "stdout",
     "output_type": "stream",
     "text": [
      "<class 'pandas.core.frame.DataFrame'>\n",
      "RangeIndex: 25596 entries, 0 to 25595\n",
      "Data columns (total 15 columns):\n",
      " #   Column          Non-Null Count  Dtype         \n",
      "---  ------          --------------  -----         \n",
      " 0   incident_key    25596 non-null  int64         \n",
      " 1   occur_date      25596 non-null  datetime64[ns]\n",
      " 2   occur_time      25596 non-null  datetime64[ns]\n",
      " 3   boro            25596 non-null  object        \n",
      " 4   murder_flag     25596 non-null  bool          \n",
      " 5   perp_age_group  16252 non-null  object        \n",
      " 6   perp_sex        16286 non-null  object        \n",
      " 7   perp_race       16286 non-null  object        \n",
      " 8   vic_age_group   25596 non-null  object        \n",
      " 9   vic_sex         25596 non-null  object        \n",
      " 10  vic_race        25596 non-null  object        \n",
      " 11  latitude        25596 non-null  float64       \n",
      " 12  longitude       25596 non-null  float64       \n",
      " 13  year            25596 non-null  int64         \n",
      " 14  total           25596 non-null  object        \n",
      "dtypes: bool(1), datetime64[ns](2), float64(2), int64(2), object(8)\n",
      "memory usage: 2.8+ MB\n"
     ]
    }
   ],
   "source": [
    "# A quick view of the updated 'shooting' dataset\n",
    "shooting.info()"
   ]
  },
  {
   "cell_type": "code",
   "execution_count": 64,
   "metadata": {},
   "outputs": [
    {
     "data": {
      "text/plain": [
       "DataTransformerRegistry.enable('json')"
      ]
     },
     "execution_count": 64,
     "metadata": {},
     "output_type": "execute_result"
    }
   ],
   "source": [
    "alt.data_transformers.enable('json')"
   ]
  },
  {
   "cell_type": "markdown",
   "metadata": {},
   "source": [
    "1) In the visualisation below, we explore the overall trend of shootings in New York City and across boroughs in the last 15 years."
   ]
  },
  {
   "cell_type": "code",
   "execution_count": 65,
   "metadata": {},
   "outputs": [
    {
     "data": {
      "text/html": [
       "\n",
       "<div id=\"altair-viz-0390dddb413449b18d6b2b653b335cd9\"></div>\n",
       "<script type=\"text/javascript\">\n",
       "  var VEGA_DEBUG = (typeof VEGA_DEBUG == \"undefined\") ? {} : VEGA_DEBUG;\n",
       "  (function(spec, embedOpt){\n",
       "    let outputDiv = document.currentScript.previousElementSibling;\n",
       "    if (outputDiv.id !== \"altair-viz-0390dddb413449b18d6b2b653b335cd9\") {\n",
       "      outputDiv = document.getElementById(\"altair-viz-0390dddb413449b18d6b2b653b335cd9\");\n",
       "    }\n",
       "    const paths = {\n",
       "      \"vega\": \"https://cdn.jsdelivr.net/npm//vega@5?noext\",\n",
       "      \"vega-lib\": \"https://cdn.jsdelivr.net/npm//vega-lib?noext\",\n",
       "      \"vega-lite\": \"https://cdn.jsdelivr.net/npm//vega-lite@4.17.0?noext\",\n",
       "      \"vega-embed\": \"https://cdn.jsdelivr.net/npm//vega-embed@6?noext\",\n",
       "    };\n",
       "\n",
       "    function maybeLoadScript(lib, version) {\n",
       "      var key = `${lib.replace(\"-\", \"\")}_version`;\n",
       "      return (VEGA_DEBUG[key] == version) ?\n",
       "        Promise.resolve(paths[lib]) :\n",
       "        new Promise(function(resolve, reject) {\n",
       "          var s = document.createElement('script');\n",
       "          document.getElementsByTagName(\"head\")[0].appendChild(s);\n",
       "          s.async = true;\n",
       "          s.onload = () => {\n",
       "            VEGA_DEBUG[key] = version;\n",
       "            return resolve(paths[lib]);\n",
       "          };\n",
       "          s.onerror = () => reject(`Error loading script: ${paths[lib]}`);\n",
       "          s.src = paths[lib];\n",
       "        });\n",
       "    }\n",
       "\n",
       "    function showError(err) {\n",
       "      outputDiv.innerHTML = `<div class=\"error\" style=\"color:red;\">${err}</div>`;\n",
       "      throw err;\n",
       "    }\n",
       "\n",
       "    function displayChart(vegaEmbed) {\n",
       "      vegaEmbed(outputDiv, spec, embedOpt)\n",
       "        .catch(err => showError(`Javascript Error: ${err.message}<br>This usually means there's a typo in your chart specification. See the javascript console for the full traceback.`));\n",
       "    }\n",
       "\n",
       "    if(typeof define === \"function\" && define.amd) {\n",
       "      requirejs.config({paths});\n",
       "      require([\"vega-embed\"], displayChart, err => showError(`Error loading script: ${err.message}`));\n",
       "    } else {\n",
       "      maybeLoadScript(\"vega\", \"5\")\n",
       "        .then(() => maybeLoadScript(\"vega-lite\", \"4.17.0\"))\n",
       "        .then(() => maybeLoadScript(\"vega-embed\", \"6\"))\n",
       "        .catch(showError)\n",
       "        .then(() => displayChart(vegaEmbed));\n",
       "    }\n",
       "  })({\"config\": {\"view\": {\"continuousWidth\": 400, \"continuousHeight\": 300}}, \"layer\": [{\"mark\": {\"type\": \"line\", \"tooltip\": true}, \"encoding\": {\"color\": {\"field\": \"boro\", \"legend\": {\"title\": \"Borough\"}, \"scale\": {\"scheme\": \"category10\"}, \"type\": \"nominal\"}, \"x\": {\"field\": \"occur_date\", \"timeUnit\": \"year\", \"title\": \"Year\", \"type\": \"temporal\"}, \"y\": {\"aggregate\": \"count\", \"field\": \"incident_key\", \"title\": \"Number of Shootings\", \"type\": \"quantitative\"}}}, {\"mark\": {\"type\": \"line\", \"strokeDash\": [10, 1], \"strokeWidth\": 3, \"tooltip\": true}, \"encoding\": {\"color\": {\"field\": \"total\", \"legend\": {\"title\": \"\"}, \"scale\": {\"scheme\": \"greys\"}, \"type\": \"nominal\"}, \"x\": {\"axis\": {\"grid\": false, \"title\": \"Year\"}, \"field\": \"occur_date\", \"timeUnit\": \"year\", \"type\": \"temporal\"}, \"y\": {\"aggregate\": \"count\", \"axis\": {\"grid\": false, \"title\": \"Number of Shootings\"}, \"field\": \"incident_key\", \"type\": \"quantitative\"}}}], \"data\": {\"url\": \"altair-data-2a7585e0def40dc35fe441dc8b7d5f27.json\", \"format\": {\"type\": \"json\"}}, \"encoding\": {}, \"resolve\": {\"scale\": {\"color\": \"independent\"}}, \"title\": \"Shootings in New York (2006- 2021)\", \"$schema\": \"https://vega.github.io/schema/vega-lite/v4.17.0.json\"}, {\"mode\": \"vega-lite\"});\n",
       "</script>"
      ],
      "text/plain": [
       "alt.LayerChart(...)"
      ]
     },
     "execution_count": 65,
     "metadata": {},
     "output_type": "execute_result"
    }
   ],
   "source": [
    "\n",
    "borough= alt.Chart(shooting).mark_line(tooltip= True).encode(\n",
    "    x= alt.X('year(occur_date):T', title= 'Year'),\n",
    "    y= alt.Y('count(incident_key)', title= 'Number of Shootings'),\n",
    "    color = alt.Color('boro', scale=alt.Scale(scheme= 'category10'), legend= alt.Legend(title= 'Borough')),\n",
    "    )\n",
    "\n",
    "\n",
    "total = alt.Chart(shooting).mark_line(strokeDash=[10,1], strokeWidth=3, tooltip= True).encode(\n",
    "    x= alt.X('year(occur_date):T', axis=alt.Axis(title= 'Year', grid= False)),\n",
    "    y= alt.Y('count(incident_key)', axis=alt.Axis(title= 'Number of Shootings', grid= False)),\n",
    "    color= alt.Color('total', scale=alt.Scale(scheme='greys'), legend= alt.Legend(title= ''))\n",
    "    \n",
    ")\n",
    "\n",
    "alt.layer( borough, total).resolve_scale(color='independent').properties(\n",
    "    title= 'Shootings in New York (2006- 2021)').encode()\n"
   ]
  },
  {
   "cell_type": "markdown",
   "metadata": {},
   "source": [
    "\n",
    " **Observation(s)** : There has generally been a steady decline in shootings from 2006 until 2020 when the number of shootings doubled compared to the previous year. This same trend is seen across most of the boroughs."
   ]
  },
  {
   "cell_type": "markdown",
   "metadata": {},
   "source": []
  },
  {
   "cell_type": "markdown",
   "metadata": {},
   "source": [
    " 2) In the visualisation below, we look at the proportion of shootings that resulted in murder across the last 15 years. There is also a drop-down button for exploring this data by borough."
   ]
  },
  {
   "cell_type": "code",
   "execution_count": 66,
   "metadata": {},
   "outputs": [
    {
     "data": {
      "text/html": [
       "\n",
       "<div id=\"altair-viz-ca8d07e1905b4ac6a964f3df45d8fe12\"></div>\n",
       "<script type=\"text/javascript\">\n",
       "  var VEGA_DEBUG = (typeof VEGA_DEBUG == \"undefined\") ? {} : VEGA_DEBUG;\n",
       "  (function(spec, embedOpt){\n",
       "    let outputDiv = document.currentScript.previousElementSibling;\n",
       "    if (outputDiv.id !== \"altair-viz-ca8d07e1905b4ac6a964f3df45d8fe12\") {\n",
       "      outputDiv = document.getElementById(\"altair-viz-ca8d07e1905b4ac6a964f3df45d8fe12\");\n",
       "    }\n",
       "    const paths = {\n",
       "      \"vega\": \"https://cdn.jsdelivr.net/npm//vega@5?noext\",\n",
       "      \"vega-lib\": \"https://cdn.jsdelivr.net/npm//vega-lib?noext\",\n",
       "      \"vega-lite\": \"https://cdn.jsdelivr.net/npm//vega-lite@4.17.0?noext\",\n",
       "      \"vega-embed\": \"https://cdn.jsdelivr.net/npm//vega-embed@6?noext\",\n",
       "    };\n",
       "\n",
       "    function maybeLoadScript(lib, version) {\n",
       "      var key = `${lib.replace(\"-\", \"\")}_version`;\n",
       "      return (VEGA_DEBUG[key] == version) ?\n",
       "        Promise.resolve(paths[lib]) :\n",
       "        new Promise(function(resolve, reject) {\n",
       "          var s = document.createElement('script');\n",
       "          document.getElementsByTagName(\"head\")[0].appendChild(s);\n",
       "          s.async = true;\n",
       "          s.onload = () => {\n",
       "            VEGA_DEBUG[key] = version;\n",
       "            return resolve(paths[lib]);\n",
       "          };\n",
       "          s.onerror = () => reject(`Error loading script: ${paths[lib]}`);\n",
       "          s.src = paths[lib];\n",
       "        });\n",
       "    }\n",
       "\n",
       "    function showError(err) {\n",
       "      outputDiv.innerHTML = `<div class=\"error\" style=\"color:red;\">${err}</div>`;\n",
       "      throw err;\n",
       "    }\n",
       "\n",
       "    function displayChart(vegaEmbed) {\n",
       "      vegaEmbed(outputDiv, spec, embedOpt)\n",
       "        .catch(err => showError(`Javascript Error: ${err.message}<br>This usually means there's a typo in your chart specification. See the javascript console for the full traceback.`));\n",
       "    }\n",
       "\n",
       "    if(typeof define === \"function\" && define.amd) {\n",
       "      requirejs.config({paths});\n",
       "      require([\"vega-embed\"], displayChart, err => showError(`Error loading script: ${err.message}`));\n",
       "    } else {\n",
       "      maybeLoadScript(\"vega\", \"5\")\n",
       "        .then(() => maybeLoadScript(\"vega-lite\", \"4.17.0\"))\n",
       "        .then(() => maybeLoadScript(\"vega-embed\", \"6\"))\n",
       "        .catch(showError)\n",
       "        .then(() => displayChart(vegaEmbed));\n",
       "    }\n",
       "  })({\"config\": {\"view\": {\"continuousWidth\": 400, \"continuousHeight\": 300}}, \"data\": {\"url\": \"altair-data-2a7585e0def40dc35fe441dc8b7d5f27.json\", \"format\": {\"type\": \"json\"}}, \"mark\": {\"type\": \"bar\", \"tooltip\": true}, \"encoding\": {\"color\": {\"field\": \"murder_flag\", \"type\": \"nominal\"}, \"x\": {\"field\": \"year\", \"type\": \"ordinal\"}, \"y\": {\"aggregate\": \"count\", \"axis\": {\"format\": \".2%\", \"labels\": false}, \"field\": \"incident_key\", \"stack\": \"normalize\", \"type\": \"quantitative\"}}, \"selection\": {\"selector005\": {\"type\": \"single\", \"fields\": [\"boro\"], \"bind\": {\"input\": \"select\", \"options\": [null, \"BRONX\", \"BROOKLYN\", \"STATEN ISLAND\", \"MANHATTAN\"], \"labels\": [\"ALL\", \"BRONX\", \"BROOKLYN\", \"STATEN ISLAND\", \"MANHATTAN\"], \"name\": \"Boroughs \"}}}, \"transform\": [{\"filter\": {\"selection\": \"selector005\"}}], \"$schema\": \"https://vega.github.io/schema/vega-lite/v4.17.0.json\"}, {\"mode\": \"vega-lite\"});\n",
       "</script>"
      ],
      "text/plain": [
       "alt.Chart(...)"
      ]
     },
     "execution_count": 66,
     "metadata": {},
     "output_type": "execute_result"
    }
   ],
   "source": [
    "options= [None, 'BRONX','BROOKLYN','STATEN ISLAND','MANHATTAN']\n",
    "\n",
    "drop_down = alt.binding_select(options= options, name= 'Boroughs ', labels= ['ALL','BRONX','BROOKLYN','STATEN ISLAND','MANHATTAN'])\n",
    "selection =alt.selection_single(fields=['boro'], bind = drop_down)\n",
    "\n",
    "\n",
    "\n",
    "alt.Chart(shooting).mark_bar(tooltip= True).encode(\n",
    "    x= alt.X(\"year:O\"),\n",
    "    y=alt.Y(\"count(incident_key)\", stack='normalize',  axis= alt.Axis(labels= False, format='.2%')),\n",
    "    color = alt.Color(\"murder_flag\")\n",
    "    \n",
    ").add_selection(selection).transform_filter(selection)"
   ]
  },
  {
   "cell_type": "markdown",
   "metadata": {},
   "source": [
    "**Observation(s)** : Overall, the percentage of murders from shootings have remained relatively stable, especially in the last 5 years (between 17% & 21%). Compared to other boroughs in New York City, Staten Island has a high murder rate from shootings. In fact, in 2021 Staten Island had almost two times the murder rate of Manhattan (30% vs 17%)"
   ]
  },
  {
   "cell_type": "markdown",
   "metadata": {},
   "source": []
  },
  {
   "cell_type": "markdown",
   "metadata": {},
   "source": [
    " 3) In the visualisation below, using data for the most recent year (2021), we explore the races of the perpetrators and victims of shootings. This will show if there is a disproportionate representation of one or more races in shooting incidents.   \n",
    " Note: The data in this plot is limited to the instances where the race of the perpetrator and victim are known. Hence, the data has been filtered within the chart."
   ]
  },
  {
   "cell_type": "code",
   "execution_count": 67,
   "metadata": {},
   "outputs": [
    {
     "data": {
      "text/html": [
       "\n",
       "<div id=\"altair-viz-1ad692a04ed746108ce5aff06d31ae29\"></div>\n",
       "<script type=\"text/javascript\">\n",
       "  var VEGA_DEBUG = (typeof VEGA_DEBUG == \"undefined\") ? {} : VEGA_DEBUG;\n",
       "  (function(spec, embedOpt){\n",
       "    let outputDiv = document.currentScript.previousElementSibling;\n",
       "    if (outputDiv.id !== \"altair-viz-1ad692a04ed746108ce5aff06d31ae29\") {\n",
       "      outputDiv = document.getElementById(\"altair-viz-1ad692a04ed746108ce5aff06d31ae29\");\n",
       "    }\n",
       "    const paths = {\n",
       "      \"vega\": \"https://cdn.jsdelivr.net/npm//vega@5?noext\",\n",
       "      \"vega-lib\": \"https://cdn.jsdelivr.net/npm//vega-lib?noext\",\n",
       "      \"vega-lite\": \"https://cdn.jsdelivr.net/npm//vega-lite@4.17.0?noext\",\n",
       "      \"vega-embed\": \"https://cdn.jsdelivr.net/npm//vega-embed@6?noext\",\n",
       "    };\n",
       "\n",
       "    function maybeLoadScript(lib, version) {\n",
       "      var key = `${lib.replace(\"-\", \"\")}_version`;\n",
       "      return (VEGA_DEBUG[key] == version) ?\n",
       "        Promise.resolve(paths[lib]) :\n",
       "        new Promise(function(resolve, reject) {\n",
       "          var s = document.createElement('script');\n",
       "          document.getElementsByTagName(\"head\")[0].appendChild(s);\n",
       "          s.async = true;\n",
       "          s.onload = () => {\n",
       "            VEGA_DEBUG[key] = version;\n",
       "            return resolve(paths[lib]);\n",
       "          };\n",
       "          s.onerror = () => reject(`Error loading script: ${paths[lib]}`);\n",
       "          s.src = paths[lib];\n",
       "        });\n",
       "    }\n",
       "\n",
       "    function showError(err) {\n",
       "      outputDiv.innerHTML = `<div class=\"error\" style=\"color:red;\">${err}</div>`;\n",
       "      throw err;\n",
       "    }\n",
       "\n",
       "    function displayChart(vegaEmbed) {\n",
       "      vegaEmbed(outputDiv, spec, embedOpt)\n",
       "        .catch(err => showError(`Javascript Error: ${err.message}<br>This usually means there's a typo in your chart specification. See the javascript console for the full traceback.`));\n",
       "    }\n",
       "\n",
       "    if(typeof define === \"function\" && define.amd) {\n",
       "      requirejs.config({paths});\n",
       "      require([\"vega-embed\"], displayChart, err => showError(`Error loading script: ${err.message}`));\n",
       "    } else {\n",
       "      maybeLoadScript(\"vega\", \"5\")\n",
       "        .then(() => maybeLoadScript(\"vega-lite\", \"4.17.0\"))\n",
       "        .then(() => maybeLoadScript(\"vega-embed\", \"6\"))\n",
       "        .catch(showError)\n",
       "        .then(() => displayChart(vegaEmbed));\n",
       "    }\n",
       "  })({\"config\": {\"view\": {\"continuousWidth\": 400, \"continuousHeight\": 300}}, \"layer\": [{\"mark\": {\"type\": \"rect\", \"tooltip\": true}, \"encoding\": {\"color\": {\"aggregate\": \"count\", \"scale\": {\"scheme\": \"reds\"}, \"type\": \"quantitative\"}, \"x\": {\"axis\": {\"labelAngle\": -45, \"title\": \"Perpetrator Race\"}, \"field\": \"perp_race\", \"type\": \"nominal\"}, \"y\": {\"axis\": {\"title\": \"Victim Race\"}, \"field\": \"vic_race\", \"type\": \"nominal\"}}, \"transform\": [{\"filter\": \"(datum.year === 2021)\"}]}, {\"mark\": \"point\", \"encoding\": {\"color\": {\"value\": \"black\"}, \"size\": {\"aggregate\": \"count\", \"legend\": {\"title\": \"Crime in Selection\"}, \"type\": \"quantitative\"}, \"x\": {\"axis\": {\"labelAngle\": -45, \"title\": \"Perpetrator Race\"}, \"field\": \"perp_race\", \"type\": \"nominal\"}, \"y\": {\"axis\": {\"title\": \"Victim Race\"}, \"field\": \"vic_race\", \"type\": \"nominal\"}}, \"transform\": [{\"filter\": \"(datum.year === 2021)\"}]}], \"data\": {\"url\": \"altair-data-bb5c211ef8701917e3ee4919b22fad12.json\", \"format\": {\"type\": \"json\"}}, \"height\": 400, \"title\": \"Perpetrators and Victims of New York City Shootings by Race in 2021\", \"width\": 400, \"$schema\": \"https://vega.github.io/schema/vega-lite/v4.17.0.json\"}, {\"mode\": \"vega-lite\"});\n",
       "</script>"
      ],
      "text/plain": [
       "alt.LayerChart(...)"
      ]
     },
     "execution_count": 67,
     "metadata": {},
     "output_type": "execute_result"
    }
   ],
   "source": [
    "rect = alt.Chart(shooting[shooting['perp_race'].notnull()]).mark_rect( tooltip= True).encode(\n",
    "    x= alt.X('perp_race', axis = alt.Axis(title= 'Perpetrator Race', labelAngle=-45)),\n",
    "    y= alt.Y('vic_race', axis = alt.Axis(title= 'Victim Race'),),\n",
    "    color = alt.Color('count()', scale= alt.Scale(scheme='reds'))\n",
    "    ).transform_filter(\n",
    "        datum.year == 2021\n",
    "    )\n",
    "\n",
    "\n",
    "circ = rect.mark_point().encode(\n",
    "    alt.ColorValue('black'),\n",
    "    alt.Size('count()',  legend=alt.Legend(title='Crime in Selection'))\n",
    "    )\n",
    "# add chart of total population\n",
    "\n",
    "alt.layer(rect,circ).properties( title= 'Perpetrators and Victims of New York City Shootings by Race in 2021',\n",
    "    width=400,\n",
    "    height=400\n",
    ")"
   ]
  },
  {
   "cell_type": "markdown",
   "metadata": {},
   "source": [
    "**Observation(s)** : Blacks were overwhelmingly both the perpetrators and victims of shootings in New York City in 2021. Out of the 962 shootings in 2021 where the races of the perpetrators and victims are known, 643 were perpetrated by Blacks; Blacks were the victims in 617 cases and Black-on-Black crime totalled 496. Considering that Blacks represent only 23.4% of the total New Yok City Population [[4]](https://www.census.gov/quickfacts/newyorkcitynewyork), this is disproportionately high."
   ]
  },
  {
   "cell_type": "markdown",
   "metadata": {},
   "source": []
  },
  {
   "cell_type": "markdown",
   "metadata": {},
   "source": [
    " 4) Similarly, In the visualisation below, using data for the most recent year (2021), we explore the age groups of the perpetrators and victims of shootings. This will show if there is a disproportionate representation of one or more age groups in shooting incidents.   \n",
    " Note: The data in this plot is limited to to the instances where the age groups of the perpetrators and victims are known. Hence, the data has been filtered within the chart."
   ]
  },
  {
   "cell_type": "code",
   "execution_count": 68,
   "metadata": {},
   "outputs": [
    {
     "data": {
      "text/html": [
       "\n",
       "<div id=\"altair-viz-54f064a8e8b2465ab2e7e18505df7403\"></div>\n",
       "<script type=\"text/javascript\">\n",
       "  var VEGA_DEBUG = (typeof VEGA_DEBUG == \"undefined\") ? {} : VEGA_DEBUG;\n",
       "  (function(spec, embedOpt){\n",
       "    let outputDiv = document.currentScript.previousElementSibling;\n",
       "    if (outputDiv.id !== \"altair-viz-54f064a8e8b2465ab2e7e18505df7403\") {\n",
       "      outputDiv = document.getElementById(\"altair-viz-54f064a8e8b2465ab2e7e18505df7403\");\n",
       "    }\n",
       "    const paths = {\n",
       "      \"vega\": \"https://cdn.jsdelivr.net/npm//vega@5?noext\",\n",
       "      \"vega-lib\": \"https://cdn.jsdelivr.net/npm//vega-lib?noext\",\n",
       "      \"vega-lite\": \"https://cdn.jsdelivr.net/npm//vega-lite@4.17.0?noext\",\n",
       "      \"vega-embed\": \"https://cdn.jsdelivr.net/npm//vega-embed@6?noext\",\n",
       "    };\n",
       "\n",
       "    function maybeLoadScript(lib, version) {\n",
       "      var key = `${lib.replace(\"-\", \"\")}_version`;\n",
       "      return (VEGA_DEBUG[key] == version) ?\n",
       "        Promise.resolve(paths[lib]) :\n",
       "        new Promise(function(resolve, reject) {\n",
       "          var s = document.createElement('script');\n",
       "          document.getElementsByTagName(\"head\")[0].appendChild(s);\n",
       "          s.async = true;\n",
       "          s.onload = () => {\n",
       "            VEGA_DEBUG[key] = version;\n",
       "            return resolve(paths[lib]);\n",
       "          };\n",
       "          s.onerror = () => reject(`Error loading script: ${paths[lib]}`);\n",
       "          s.src = paths[lib];\n",
       "        });\n",
       "    }\n",
       "\n",
       "    function showError(err) {\n",
       "      outputDiv.innerHTML = `<div class=\"error\" style=\"color:red;\">${err}</div>`;\n",
       "      throw err;\n",
       "    }\n",
       "\n",
       "    function displayChart(vegaEmbed) {\n",
       "      vegaEmbed(outputDiv, spec, embedOpt)\n",
       "        .catch(err => showError(`Javascript Error: ${err.message}<br>This usually means there's a typo in your chart specification. See the javascript console for the full traceback.`));\n",
       "    }\n",
       "\n",
       "    if(typeof define === \"function\" && define.amd) {\n",
       "      requirejs.config({paths});\n",
       "      require([\"vega-embed\"], displayChart, err => showError(`Error loading script: ${err.message}`));\n",
       "    } else {\n",
       "      maybeLoadScript(\"vega\", \"5\")\n",
       "        .then(() => maybeLoadScript(\"vega-lite\", \"4.17.0\"))\n",
       "        .then(() => maybeLoadScript(\"vega-embed\", \"6\"))\n",
       "        .catch(showError)\n",
       "        .then(() => displayChart(vegaEmbed));\n",
       "    }\n",
       "  })({\"config\": {\"view\": {\"continuousWidth\": 400, \"continuousHeight\": 300}}, \"layer\": [{\"mark\": {\"type\": \"rect\", \"tooltip\": true}, \"encoding\": {\"color\": {\"aggregate\": \"count\", \"scale\": {\"scheme\": \"reds\"}, \"type\": \"quantitative\"}, \"x\": {\"axis\": {\"title\": \"Perpetrator Age\"}, \"field\": \"perp_age_group\", \"sort\": [\"<18\", \"18-24\", \"25-44\", \"45-64\", \"65+\"], \"type\": \"nominal\"}, \"y\": {\"axis\": {\"title\": \"Victim Age\"}, \"field\": \"vic_age_group\", \"sort\": [\"<18\", \"18-24\", \"25-44\", \"45-64\", \"65+\"], \"type\": \"nominal\"}}, \"transform\": [{\"filter\": \"(datum.year === 2021)\"}]}, {\"mark\": \"point\", \"encoding\": {\"color\": {\"value\": \"black\"}, \"size\": {\"aggregate\": \"count\", \"legend\": {\"title\": \"Crime in Selection\"}, \"type\": \"quantitative\"}, \"x\": {\"axis\": {\"title\": \"Perpetrator Age\"}, \"field\": \"perp_age_group\", \"sort\": [\"<18\", \"18-24\", \"25-44\", \"45-64\", \"65+\"], \"type\": \"nominal\"}, \"y\": {\"axis\": {\"title\": \"Victim Age\"}, \"field\": \"vic_age_group\", \"sort\": [\"<18\", \"18-24\", \"25-44\", \"45-64\", \"65+\"], \"type\": \"nominal\"}}, \"transform\": [{\"filter\": \"(datum.year === 2021)\"}]}], \"data\": {\"url\": \"altair-data-6a0bee4321f998460fbaa3d35a4dc0b7.json\", \"format\": {\"type\": \"json\"}}, \"height\": 400, \"title\": \"Perpetrators and Victims of New York City Shootings by Age in 2021\", \"width\": 400, \"$schema\": \"https://vega.github.io/schema/vega-lite/v4.17.0.json\"}, {\"mode\": \"vega-lite\"});\n",
       "</script>"
      ],
      "text/plain": [
       "alt.LayerChart(...)"
      ]
     },
     "execution_count": 68,
     "metadata": {},
     "output_type": "execute_result"
    }
   ],
   "source": [
    "rect = alt.Chart(shooting[(shooting['perp_age_group'].notnull()) & (shooting['perp_age_group'] != 'UNKNOWN') & (shooting['vic_age_group'] != 'UNKNOWN')]).mark_rect(tooltip= True).encode(\n",
    "    x= alt.X('perp_age_group', sort=['<18','18-24','25-44','45-64','65+'], axis = alt.Axis(title= 'Perpetrator Age')),\n",
    "    y= alt.Y('vic_age_group', sort=['<18','18-24','25-44','45-64','65+'], axis = alt.Axis(title= 'Victim Age')),\n",
    "    color = alt.Color('count()', scale= alt.Scale(scheme='reds'))\n",
    "    ).transform_filter(\n",
    "        datum.year == 2021\n",
    "    )\n",
    "\n",
    "\n",
    "circ = rect.mark_point().encode(\n",
    "    alt.ColorValue('black'),\n",
    "    alt.Size('count()', legend=alt.Legend(title='Crime in Selection'))\n",
    "    )\n",
    "# add chart of total population\n",
    "\n",
    "alt.layer(rect,circ).properties( title= 'Perpetrators and Victims of New York City Shootings by Age in 2021',\n",
    "    width=400,\n",
    "    height=400\n",
    ")"
   ]
  },
  {
   "cell_type": "markdown",
   "metadata": {},
   "source": [
    "**Observation(s)** : Most perpetrators and victims of shootings in NYC are youths and middle aged individuals (age 18-44).   \n",
    "The incidence rate is particularly high in the 25-44 age group.  Out of the 961 shootings in 2021 where the ages of the perpetrators and victims are known, 342 were perpetrated by members of this age group on members of the same group."
   ]
  },
  {
   "cell_type": "markdown",
   "metadata": {},
   "source": []
  },
  {
   "cell_type": "markdown",
   "metadata": {},
   "source": [
    "5) In the visualisation below, using data for the most recent year (2021), we explore the time of the day when shootings occur in NYC. To do this, a new column is _time_of_day_ is created by splitting the 24 hour clock into 4 equal parts (12 hours each) as follows:      \n",
    "Morning:    0:00 to 5:59   \n",
    "Afternoon:  6:00 to 11:59   \n",
    "Night:      12:00 to 17:59   \n",
    "Midnight:   18:00 to 23:59   "
   ]
  },
  {
   "cell_type": "code",
   "execution_count": 69,
   "metadata": {},
   "outputs": [],
   "source": [
    "conditions= [\n",
    "    (shooting['occur_time'] >= pd.to_datetime('0:00')) &  (shooting['occur_time'] < pd.to_datetime('6:00')),\n",
    "    (shooting['occur_time']>= pd.to_datetime('6:00')) &  (shooting['occur_time'] < pd.to_datetime('12:00')),\n",
    "    (shooting['occur_time'] >= pd.to_datetime('12:00')) &  (shooting['occur_time'] < pd.to_datetime('18:00')),\n",
    "    (shooting['occur_time'] >= pd.to_datetime('18:00')) &  (shooting['occur_time'] <= pd.to_datetime('23:59')),\n",
    "    \n",
    "]\n",
    "\n",
    "choices = ['Midnight','Morning','Afternoon','Night']\n",
    "shooting['time_of_day'] = np.select(conditions, choices, default=np.nan)"
   ]
  },
  {
   "cell_type": "code",
   "execution_count": 70,
   "metadata": {},
   "outputs": [
    {
     "data": {
      "text/html": [
       "\n",
       "<div id=\"altair-viz-215cafe8bc3a42faa6b7a7c0809200f7\"></div>\n",
       "<script type=\"text/javascript\">\n",
       "  var VEGA_DEBUG = (typeof VEGA_DEBUG == \"undefined\") ? {} : VEGA_DEBUG;\n",
       "  (function(spec, embedOpt){\n",
       "    let outputDiv = document.currentScript.previousElementSibling;\n",
       "    if (outputDiv.id !== \"altair-viz-215cafe8bc3a42faa6b7a7c0809200f7\") {\n",
       "      outputDiv = document.getElementById(\"altair-viz-215cafe8bc3a42faa6b7a7c0809200f7\");\n",
       "    }\n",
       "    const paths = {\n",
       "      \"vega\": \"https://cdn.jsdelivr.net/npm//vega@5?noext\",\n",
       "      \"vega-lib\": \"https://cdn.jsdelivr.net/npm//vega-lib?noext\",\n",
       "      \"vega-lite\": \"https://cdn.jsdelivr.net/npm//vega-lite@4.17.0?noext\",\n",
       "      \"vega-embed\": \"https://cdn.jsdelivr.net/npm//vega-embed@6?noext\",\n",
       "    };\n",
       "\n",
       "    function maybeLoadScript(lib, version) {\n",
       "      var key = `${lib.replace(\"-\", \"\")}_version`;\n",
       "      return (VEGA_DEBUG[key] == version) ?\n",
       "        Promise.resolve(paths[lib]) :\n",
       "        new Promise(function(resolve, reject) {\n",
       "          var s = document.createElement('script');\n",
       "          document.getElementsByTagName(\"head\")[0].appendChild(s);\n",
       "          s.async = true;\n",
       "          s.onload = () => {\n",
       "            VEGA_DEBUG[key] = version;\n",
       "            return resolve(paths[lib]);\n",
       "          };\n",
       "          s.onerror = () => reject(`Error loading script: ${paths[lib]}`);\n",
       "          s.src = paths[lib];\n",
       "        });\n",
       "    }\n",
       "\n",
       "    function showError(err) {\n",
       "      outputDiv.innerHTML = `<div class=\"error\" style=\"color:red;\">${err}</div>`;\n",
       "      throw err;\n",
       "    }\n",
       "\n",
       "    function displayChart(vegaEmbed) {\n",
       "      vegaEmbed(outputDiv, spec, embedOpt)\n",
       "        .catch(err => showError(`Javascript Error: ${err.message}<br>This usually means there's a typo in your chart specification. See the javascript console for the full traceback.`));\n",
       "    }\n",
       "\n",
       "    if(typeof define === \"function\" && define.amd) {\n",
       "      requirejs.config({paths});\n",
       "      require([\"vega-embed\"], displayChart, err => showError(`Error loading script: ${err.message}`));\n",
       "    } else {\n",
       "      maybeLoadScript(\"vega\", \"5\")\n",
       "        .then(() => maybeLoadScript(\"vega-lite\", \"4.17.0\"))\n",
       "        .then(() => maybeLoadScript(\"vega-embed\", \"6\"))\n",
       "        .catch(showError)\n",
       "        .then(() => displayChart(vegaEmbed));\n",
       "    }\n",
       "  })({\"config\": {\"view\": {\"continuousWidth\": 400, \"continuousHeight\": 300}}, \"layer\": [{\"mark\": {\"type\": \"arc\", \"outerRadius\": 120}, \"encoding\": {\"color\": {\"field\": \"time_of_day\", \"type\": \"nominal\"}, \"order\": {\"aggregate\": \"count\", \"sort\": \"ascending\", \"type\": \"quantitative\"}, \"theta\": {\"field\": \"percentage\", \"stack\": \"normalize\", \"type\": \"quantitative\"}, \"tooltip\": [{\"field\": \"time_of_day\", \"type\": \"nominal\"}, {\"field\": \"percentage\", \"format\": \".0%\", \"type\": \"quantitative\"}]}, \"title\": \"Shootings in New york City by Time of Day in 2021 (%) \", \"transform\": [{\"joinaggregate\": [{\"op\": \"count\", \"field\": \"incident_key\", \"as\": \"Total1\"}], \"groupby\": [\"time_of_day\"]}, {\"joinaggregate\": [{\"op\": \"count\", \"field\": \"incident_key\", \"as\": \"Total2\"}]}, {\"calculate\": \"(datum.Total1 / datum.Total2)\", \"as\": \"percentage\"}]}, {\"mark\": {\"type\": \"text\", \"radius\": 100}, \"encoding\": {\"order\": {\"aggregate\": \"count\", \"sort\": \"ascending\", \"type\": \"quantitative\"}, \"text\": {\"field\": \"percentage\", \"format\": \".0%\", \"type\": \"quantitative\"}, \"theta\": {\"field\": \"percentage\", \"stack\": \"normalize\", \"type\": \"quantitative\"}, \"tooltip\": [{\"field\": \"time_of_day\", \"type\": \"nominal\"}, {\"field\": \"percentage\", \"format\": \".0%\", \"type\": \"quantitative\"}]}, \"title\": \"Shootings in New york City by Time of Day in 2021 (%) \", \"transform\": [{\"joinaggregate\": [{\"op\": \"count\", \"field\": \"incident_key\", \"as\": \"Total1\"}], \"groupby\": [\"time_of_day\"]}, {\"joinaggregate\": [{\"op\": \"count\", \"field\": \"incident_key\", \"as\": \"Total2\"}]}, {\"calculate\": \"(datum.Total1 / datum.Total2)\", \"as\": \"percentage\"}]}], \"data\": {\"url\": \"altair-data-604988d9c7704c22ce8f0ba5c21a3e2e.json\", \"format\": {\"type\": \"json\"}}, \"$schema\": \"https://vega.github.io/schema/vega-lite/v4.17.0.json\"}, {\"mode\": \"vega-lite\"});\n",
       "</script>"
      ],
      "text/plain": [
       "alt.LayerChart(...)"
      ]
     },
     "execution_count": 70,
     "metadata": {},
     "output_type": "execute_result"
    }
   ],
   "source": [
    "base = alt.Chart(shooting[shooting.year == 2021]).transform_joinaggregate(\n",
    "    Total1='count(incident_key)',\n",
    "    groupby= ['time_of_day']\n",
    ").transform_joinaggregate(\n",
    "    Total2='count(incident_key)'    \n",
    ").encode(\n",
    "    theta = alt.Theta('percentage:Q', stack=\"normalize\"),    \n",
    "    order= alt.Order('count():Q', sort= 'ascending'),\n",
    "    tooltip= ['time_of_day', alt.Tooltip('percentage:Q', format=\".0%\")]).properties(\n",
    "        title= 'Shootings in New york City by Time of Day in 2021 (%) '            \n",
    ").transform_calculate( \n",
    "            percentage = (datum.Total1/ datum.Total2)\n",
    ")\n",
    "\n",
    "\n",
    "pie = base.mark_arc(outerRadius=120).encode(color= 'time_of_day:N')\n",
    "\n",
    "text = base.mark_text(radius=100).encode(text= alt.Text(\"percentage:Q\", format=\".0%\"))\n",
    "\n",
    "pie + text"
   ]
  },
  {
   "cell_type": "markdown",
   "metadata": {},
   "source": [
    "**Observation(s)** : Most shootings occur at night and midnight."
   ]
  },
  {
   "cell_type": "markdown",
   "metadata": {},
   "source": []
  },
  {
   "cell_type": "markdown",
   "metadata": {},
   "source": [
    "6) Finally, using data for the most recent year (2021), we explore shootings per borough in New York City, comparing total shootings per borough to shootings per capita. \n",
    "\n",
    "To do this, we go through several steps, cuminating in two geoplots showing the total shootings and shootings per capita across the  boroughs of NYC.\n",
    "\n",
    "Each step is highlighted in the repective blocks of code below:"
   ]
  },
  {
   "cell_type": "code",
   "execution_count": 71,
   "metadata": {},
   "outputs": [
    {
     "data": {
      "text/html": [
       "<div>\n",
       "<style scoped>\n",
       "    .dataframe tbody tr th:only-of-type {\n",
       "        vertical-align: middle;\n",
       "    }\n",
       "\n",
       "    .dataframe tbody tr th {\n",
       "        vertical-align: top;\n",
       "    }\n",
       "\n",
       "    .dataframe thead th {\n",
       "        text-align: right;\n",
       "    }\n",
       "</style>\n",
       "<table border=\"1\" class=\"dataframe\">\n",
       "  <thead>\n",
       "    <tr style=\"text-align: right;\">\n",
       "      <th></th>\n",
       "      <th>boro</th>\n",
       "      <th>number_of_shootings</th>\n",
       "    </tr>\n",
       "  </thead>\n",
       "  <tbody>\n",
       "    <tr>\n",
       "      <th>0</th>\n",
       "      <td>BRONX</td>\n",
       "      <td>701</td>\n",
       "    </tr>\n",
       "    <tr>\n",
       "      <th>1</th>\n",
       "      <td>BROOKLYN</td>\n",
       "      <td>631</td>\n",
       "    </tr>\n",
       "    <tr>\n",
       "      <th>2</th>\n",
       "      <td>MANHATTAN</td>\n",
       "      <td>343</td>\n",
       "    </tr>\n",
       "    <tr>\n",
       "      <th>3</th>\n",
       "      <td>QUEENS</td>\n",
       "      <td>296</td>\n",
       "    </tr>\n",
       "    <tr>\n",
       "      <th>4</th>\n",
       "      <td>STATEN ISLAND</td>\n",
       "      <td>40</td>\n",
       "    </tr>\n",
       "  </tbody>\n",
       "</table>\n",
       "</div>"
      ],
      "text/plain": [
       "            boro  number_of_shootings\n",
       "0          BRONX                  701\n",
       "1       BROOKLYN                  631\n",
       "2      MANHATTAN                  343\n",
       "3         QUEENS                  296\n",
       "4  STATEN ISLAND                   40"
      ]
     },
     "execution_count": 71,
     "metadata": {},
     "output_type": "execute_result"
    }
   ],
   "source": [
    "# group total number of shootings by borough, and keep only required columns \n",
    "boro_shooting = shooting[shooting['year']==2021][['boro','incident_key']].groupby('boro').count(\n",
    ").reset_index().rename(columns= {'incident_key':'number_of_shootings'})\n",
    "boro_shooting"
   ]
  },
  {
   "cell_type": "code",
   "execution_count": 72,
   "metadata": {},
   "outputs": [
    {
     "data": {
      "text/html": [
       "<div>\n",
       "<style scoped>\n",
       "    .dataframe tbody tr th:only-of-type {\n",
       "        vertical-align: middle;\n",
       "    }\n",
       "\n",
       "    .dataframe tbody tr th {\n",
       "        vertical-align: top;\n",
       "    }\n",
       "\n",
       "    .dataframe thead th {\n",
       "        text-align: right;\n",
       "    }\n",
       "</style>\n",
       "<table border=\"1\" class=\"dataframe\">\n",
       "  <thead>\n",
       "    <tr style=\"text-align: right;\">\n",
       "      <th></th>\n",
       "      <th>boro_code</th>\n",
       "      <th>boro</th>\n",
       "      <th>shape_area</th>\n",
       "      <th>shape_leng</th>\n",
       "      <th>geometry</th>\n",
       "      <th>number_of_shootings</th>\n",
       "      <th>population</th>\n",
       "      <th>shootings_per_million</th>\n",
       "    </tr>\n",
       "  </thead>\n",
       "  <tbody>\n",
       "    <tr>\n",
       "      <th>0</th>\n",
       "      <td>5</td>\n",
       "      <td>STATEN ISLAND</td>\n",
       "      <td>1623620725.06</td>\n",
       "      <td>325917.353702</td>\n",
       "      <td>MULTIPOLYGON (((-74.05051 40.56642, -74.05047 ...</td>\n",
       "      <td>40</td>\n",
       "      <td>487155</td>\n",
       "      <td>82.0</td>\n",
       "    </tr>\n",
       "    <tr>\n",
       "      <th>1</th>\n",
       "      <td>2</td>\n",
       "      <td>BRONX</td>\n",
       "      <td>1187182350.92</td>\n",
       "      <td>463176.004334</td>\n",
       "      <td>MULTIPOLYGON (((-73.89681 40.79581, -73.89694 ...</td>\n",
       "      <td>701</td>\n",
       "      <td>1446788</td>\n",
       "      <td>485.0</td>\n",
       "    </tr>\n",
       "    <tr>\n",
       "      <th>2</th>\n",
       "      <td>3</td>\n",
       "      <td>BROOKLYN</td>\n",
       "      <td>1934229471.99</td>\n",
       "      <td>728263.543413</td>\n",
       "      <td>MULTIPOLYGON (((-73.86327 40.58388, -73.86381 ...</td>\n",
       "      <td>631</td>\n",
       "      <td>2648452</td>\n",
       "      <td>238.0</td>\n",
       "    </tr>\n",
       "    <tr>\n",
       "      <th>3</th>\n",
       "      <td>1</td>\n",
       "      <td>MANHATTAN</td>\n",
       "      <td>636520830.696</td>\n",
       "      <td>357564.317228</td>\n",
       "      <td>MULTIPOLYGON (((-74.01093 40.68449, -74.01193 ...</td>\n",
       "      <td>343</td>\n",
       "      <td>1638281</td>\n",
       "      <td>209.0</td>\n",
       "    </tr>\n",
       "    <tr>\n",
       "      <th>4</th>\n",
       "      <td>4</td>\n",
       "      <td>QUEENS</td>\n",
       "      <td>3041418543.49</td>\n",
       "      <td>888199.780587</td>\n",
       "      <td>MULTIPOLYGON (((-73.82645 40.59053, -73.82642 ...</td>\n",
       "      <td>296</td>\n",
       "      <td>2330295</td>\n",
       "      <td>127.0</td>\n",
       "    </tr>\n",
       "  </tbody>\n",
       "</table>\n",
       "</div>"
      ],
      "text/plain": [
       "  boro_code           boro     shape_area     shape_leng  \\\n",
       "0         5  STATEN ISLAND  1623620725.06  325917.353702   \n",
       "1         2          BRONX  1187182350.92  463176.004334   \n",
       "2         3       BROOKLYN  1934229471.99  728263.543413   \n",
       "3         1      MANHATTAN  636520830.696  357564.317228   \n",
       "4         4         QUEENS  3041418543.49  888199.780587   \n",
       "\n",
       "                                            geometry  number_of_shootings  \\\n",
       "0  MULTIPOLYGON (((-74.05051 40.56642, -74.05047 ...                   40   \n",
       "1  MULTIPOLYGON (((-73.89681 40.79581, -73.89694 ...                  701   \n",
       "2  MULTIPOLYGON (((-73.86327 40.58388, -73.86381 ...                  631   \n",
       "3  MULTIPOLYGON (((-74.01093 40.68449, -74.01193 ...                  343   \n",
       "4  MULTIPOLYGON (((-73.82645 40.59053, -73.82642 ...                  296   \n",
       "\n",
       "   population  shootings_per_million  \n",
       "0      487155                   82.0  \n",
       "1     1446788                  485.0  \n",
       "2     2648452                  238.0  \n",
       "3     1638281                  209.0  \n",
       "4     2330295                  127.0  "
      ]
     },
     "execution_count": 72,
     "metadata": {},
     "output_type": "execute_result"
    }
   ],
   "source": [
    "# merge the boro_shooting, boro_boundary and boro_pop datasets into a single dataset 'shooting_combined'\n",
    "shooting_combined = pd.merge(left=boro_boundary, right= pd.merge(left= boro_shooting, right= boro_pop, on= 'boro', how= 'left'), on= 'boro', how= 'left')\n",
    "shooting_combined['shootings_per_million'] = round((shooting_combined['number_of_shootings']/shooting_combined['population'])*1000000)\n",
    "shooting_combined.head(5)"
   ]
  },
  {
   "cell_type": "code",
   "execution_count": 73,
   "metadata": {},
   "outputs": [
    {
     "data": {
      "text/html": [
       "\n",
       "<div id=\"altair-viz-903c5307d9bd48548266cfa95758498e\"></div>\n",
       "<script type=\"text/javascript\">\n",
       "  var VEGA_DEBUG = (typeof VEGA_DEBUG == \"undefined\") ? {} : VEGA_DEBUG;\n",
       "  (function(spec, embedOpt){\n",
       "    let outputDiv = document.currentScript.previousElementSibling;\n",
       "    if (outputDiv.id !== \"altair-viz-903c5307d9bd48548266cfa95758498e\") {\n",
       "      outputDiv = document.getElementById(\"altair-viz-903c5307d9bd48548266cfa95758498e\");\n",
       "    }\n",
       "    const paths = {\n",
       "      \"vega\": \"https://cdn.jsdelivr.net/npm//vega@5?noext\",\n",
       "      \"vega-lib\": \"https://cdn.jsdelivr.net/npm//vega-lib?noext\",\n",
       "      \"vega-lite\": \"https://cdn.jsdelivr.net/npm//vega-lite@4.17.0?noext\",\n",
       "      \"vega-embed\": \"https://cdn.jsdelivr.net/npm//vega-embed@6?noext\",\n",
       "    };\n",
       "\n",
       "    function maybeLoadScript(lib, version) {\n",
       "      var key = `${lib.replace(\"-\", \"\")}_version`;\n",
       "      return (VEGA_DEBUG[key] == version) ?\n",
       "        Promise.resolve(paths[lib]) :\n",
       "        new Promise(function(resolve, reject) {\n",
       "          var s = document.createElement('script');\n",
       "          document.getElementsByTagName(\"head\")[0].appendChild(s);\n",
       "          s.async = true;\n",
       "          s.onload = () => {\n",
       "            VEGA_DEBUG[key] = version;\n",
       "            return resolve(paths[lib]);\n",
       "          };\n",
       "          s.onerror = () => reject(`Error loading script: ${paths[lib]}`);\n",
       "          s.src = paths[lib];\n",
       "        });\n",
       "    }\n",
       "\n",
       "    function showError(err) {\n",
       "      outputDiv.innerHTML = `<div class=\"error\" style=\"color:red;\">${err}</div>`;\n",
       "      throw err;\n",
       "    }\n",
       "\n",
       "    function displayChart(vegaEmbed) {\n",
       "      vegaEmbed(outputDiv, spec, embedOpt)\n",
       "        .catch(err => showError(`Javascript Error: ${err.message}<br>This usually means there's a typo in your chart specification. See the javascript console for the full traceback.`));\n",
       "    }\n",
       "\n",
       "    if(typeof define === \"function\" && define.amd) {\n",
       "      requirejs.config({paths});\n",
       "      require([\"vega-embed\"], displayChart, err => showError(`Error loading script: ${err.message}`));\n",
       "    } else {\n",
       "      maybeLoadScript(\"vega\", \"5\")\n",
       "        .then(() => maybeLoadScript(\"vega-lite\", \"4.17.0\"))\n",
       "        .then(() => maybeLoadScript(\"vega-embed\", \"6\"))\n",
       "        .catch(showError)\n",
       "        .then(() => displayChart(vegaEmbed));\n",
       "    }\n",
       "  })({\"config\": {\"view\": {\"continuousWidth\": 400, \"continuousHeight\": 300}, \"background\": \"#DDEEFF\"}, \"hconcat\": [{\"mark\": {\"type\": \"geoshape\", \"stroke\": \"black\"}, \"encoding\": {\"color\": {\"field\": \"number_of_shootings\", \"legend\": {\"direction\": \"horizontal\", \"legendX\": 20, \"legendY\": 20, \"orient\": \"none\", \"titleAnchor\": \"middle\"}, \"scale\": {\"scheme\": \"reds\"}, \"type\": \"quantitative\"}, \"tooltip\": [{\"field\": \"boro_code\", \"type\": \"nominal\"}, {\"field\": \"boro\", \"type\": \"nominal\"}, {\"field\": \"number_of_shootings\", \"type\": \"quantitative\"}, {\"field\": \"population\", \"type\": \"quantitative\"}]}, \"projection\": {\"type\": \"naturalEarth1\"}, \"title\": \"Number of Shootings by New York City Borough in 2021\"}, {\"mark\": {\"type\": \"geoshape\", \"stroke\": \"black\"}, \"encoding\": {\"color\": {\"field\": \"shootings_per_million\", \"legend\": {\"direction\": \"horizontal\", \"legendX\": 20, \"legendY\": 20, \"orient\": \"none\", \"titleAnchor\": \"middle\"}, \"scale\": {\"scheme\": \"reds\"}, \"type\": \"quantitative\"}, \"tooltip\": [{\"field\": \"boro_code\", \"type\": \"nominal\"}, {\"field\": \"boro\", \"type\": \"nominal\"}, {\"field\": \"shootings_per_million\", \"type\": \"quantitative\"}, {\"field\": \"population\", \"type\": \"quantitative\"}]}, \"projection\": {\"type\": \"naturalEarth1\"}, \"title\": \"Shootings per Million by New York City Borough in 2021\"}], \"data\": {\"url\": \"altair-data-8a4487157f24d55463ef6963cdef6bba.json\", \"format\": {\"type\": \"json\"}}, \"resolve\": {\"scale\": {\"color\": \"independent\"}}, \"$schema\": \"https://vega.github.io/schema/vega-lite/v4.17.0.json\"}, {\"mode\": \"vega-lite\"});\n",
       "</script>"
      ],
      "text/plain": [
       "alt.HConcatChart(...)"
      ]
     },
     "execution_count": 73,
     "metadata": {},
     "output_type": "execute_result"
    }
   ],
   "source": [
    "# Two geomaps comparing the total shootings against shootings_per_million across the 5 boroughs of New york City\n",
    "\n",
    "chart_a= alt.Chart(shooting_combined).mark_geoshape(stroke='black').encode(\n",
    "    alt.Color(\"number_of_shootings\", scale=alt.Scale(scheme='reds'), legend=alt.Legend(\n",
    "        orient='none',\n",
    "        legendX= 20, legendY=20,\n",
    "        direction='horizontal',\n",
    "        titleAnchor='middle')),\n",
    "    alt.Tooltip([\"boro_code\",\"boro\", 'number_of_shootings', 'population'])\n",
    ").properties( title= 'Number of Shootings by New York City Borough in 2021').project(\"naturalEarth1\")\n",
    "\n",
    "\n",
    "chart_b= alt.Chart(shooting_combined).mark_geoshape(stroke='black').encode(\n",
    "    alt.Color(\"shootings_per_million\", scale=alt.Scale(scheme='reds'), legend=alt.Legend(\n",
    "        orient='none',\n",
    "        legendX= 20, legendY=20,\n",
    "        direction='horizontal',\n",
    "        titleAnchor='middle')),\n",
    "    alt.Tooltip([\"boro_code\",\"boro\", 'shootings_per_million', 'population'])\n",
    ").properties( title= 'Shootings per Million by New York City Borough in 2021').project(\"naturalEarth1\")\n",
    "\n",
    "\n",
    "\n",
    "alt.hconcat(\n",
    "   chart_a, chart_b \n",
    ").resolve_scale(\n",
    "    color='independent'\n",
    ").configure(background='#DDEEFF')"
   ]
  },
  {
   "cell_type": "markdown",
   "metadata": {},
   "source": [
    " **Observation(s)** : Although Brooklyn has the highest population, it has the second highest number of shootings.\n",
    "Bronx with about half the population of Brooklyn has the highest number of shootings. Bronx also has, by far, the highest shootings per capita amongst the 5 boroughs of New york City.   \n",
    "Staten Island, the least populated borough, has the lowest number of shootings and the lowest shootings per capita."
   ]
  },
  {
   "cell_type": "markdown",
   "metadata": {},
   "source": []
  },
  {
   "cell_type": "markdown",
   "metadata": {},
   "source": [
    "#### Summary of all key Findings\n",
    "\n",
    "1) After many years of steady decline there has been a sharp uptick in shootings in New York City in recent years\n",
    "2) Overall, about 20% of shootings in New York City resulted in murder. However, this percentage is significantly higher in Staten Island, about 30%.\n",
    "3) The Black community is the most affected by shootings in New York City, both as perpetrators and victims.\n",
    "4) The youth and Middle age groups are most affected by shootings in New York City, both as perpetrators and victims.\n",
    "5) Most shootings occur at night and midnight.\n",
    "6) The Bronx borough is a hotspot for shootings in New York City."
   ]
  },
  {
   "cell_type": "markdown",
   "metadata": {},
   "source": [
    "#### Conclusion\n",
    "\n",
    "This project has explored the shooting epidemic in New york City, revealing insights about shootings trends, profiles of perpetrators and victims, and locations and time_of day when shootings happen. It is important to note that there are several factors , which were not explored in this project, that affect crime rates in general. These include socio-economic, cultural, family background, population density, mental health amongst others. \n",
    "\n",
    "\n",
    "#### Project Limitations\n",
    "i) In many instances, the identities of shooters are unknown. It is possible, in theory, that some communities have more strict policing, and pepetrators are more likley to be caught in these communities than in other communities.   \n",
    "ii) Other important varibles such as socio-economic factors have not been considered in this project. It is possible, for instance, that the high rate of shootings in the Black community and the Bronx  borough is merely a reflection of high rate of unemployment and uneducation in that community.\n",
    " \n",
    "\n",
    "##### Recommendations\n",
    "\n",
    "In order to reduce the incidence of shootings in New York City, it is recommended that further research  should be done to compare socio-economic, family background, gun ownership, and socio-cultural factors in high and low risk communities with regards to crime in NYC in general and shootings in particular. The will lead to better understanding of the factors that make the Black community, Youth and Middle aged, and the Bronx borough high risk groups for shootings.   \n",
    "With these insights, city administrators will be better equipped to reduce the incidence of shootings in New York City"
   ]
  },
  {
   "cell_type": "markdown",
   "metadata": {},
   "source": [
    "##### Sources\n",
    "\n",
    "Datasets\n",
    "\n",
    "###### [1. shootings](https://data.cityofnewyork.us/Public-Safety/NYPD-Shooting-Incident-Data-Historic-/833y-fsy8)      \n",
    "###### [2. population](https://data.cityofnewyork.us/City-Government/New-York-City-Population-by-Borough-1950-2040/xywu-7bv9)   \n",
    "###### [3. boundary](https://data.cityofnewyork.us/browse?q=map%20borough&sortBy=relevance)\n",
    "\n",
    "\n",
    "Other References\n",
    "\n",
    "###### [1. leading cause of deaths ](https://www.cdc.gov/injury/wisqars/pdf/leading_causes_of_injury_deaths_highlighting_violence_2018-508.pdf)  \n",
    "###### [2. Death rate by firearm](https://www.kff.org/other/state-indicator/firearms-death-rate-per-100000/?currentTimeframe=0&sortModel=%7B%22colId%22:%22Location%22,%22sort%22:%22asc%22%7D)   \n",
    "###### [3. Population in NYC by race decription](https://www.census.gov/quickfacts/newyorkcitynewyork)   \n",
    "###### [4. Shootings in London 2021/2022](https://www.census.gov/quickfacts/newyorkcitynewyork) \n",
    "\n",
    "\n",
    "\n",
    "\n"
   ]
  }
 ],
 "metadata": {
  "kernelspec": {
   "display_name": "Geoviz",
   "language": "python",
   "name": "python3"
  },
  "language_info": {
   "codemirror_mode": {
    "name": "ipython",
    "version": 3
   },
   "file_extension": ".py",
   "mimetype": "text/x-python",
   "name": "python",
   "nbconvert_exporter": "python",
   "pygments_lexer": "ipython3",
   "version": "3.10.7"
  },
  "orig_nbformat": 4
 },
 "nbformat": 4,
 "nbformat_minor": 2
}
