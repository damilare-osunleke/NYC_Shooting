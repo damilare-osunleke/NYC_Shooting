{
 "cells": [
  {
   "attachments": {},
   "cell_type": "markdown",
   "metadata": {},
   "source": [
    "Importing all required modules"
   ]
  },
  {
   "cell_type": "code",
   "execution_count": 1,
   "metadata": {},
   "outputs": [],
   "source": [
    "import geopandas as gpd\n",
    "import pandas as pd\n",
    "import warnings\n",
    "warnings.filterwarnings('ignore')\n",
    "import altair as alt\n",
    "from matplotlib import pyplot as plt\n",
    "import numpy as np\n",
    "from altair import datum\n",
    "import streamlit as st\n",
    "import datetime\n",
    "\n",
    "import altair_saver"
   ]
  },
  {
   "cell_type": "code",
   "execution_count": 2,
   "metadata": {},
   "outputs": [],
   "source": [
    "import altair_viewer"
   ]
  },
  {
   "attachments": {},
   "cell_type": "markdown",
   "metadata": {},
   "source": [
    "Reading the three files required fo this project"
   ]
  },
  {
   "cell_type": "code",
   "execution_count": 3,
   "metadata": {},
   "outputs": [],
   "source": [
    "source1 = './Data/Raw/NYPD_Shooting_Incident_Data__Historic.csv'\n",
    "source2 = './Data/Raw/New_York_City_Population.csv'\n",
    "source3= './Data/Raw/NYC Borough Boundaries.geojson'\n",
    "\n",
    "shooting = pd.read_csv(source1)\n",
    "boro_pop = pd.read_csv(source2)\n",
    "boro_boundary = gpd.read_file(source3)"
   ]
  },
  {
   "cell_type": "markdown",
   "metadata": {},
   "source": [
    "**Quick review and pre-processing of the _shooting_ dataset**"
   ]
  },
  {
   "cell_type": "code",
   "execution_count": 4,
   "metadata": {},
   "outputs": [
    {
     "data": {
      "text/html": [
       "<div>\n",
       "<style scoped>\n",
       "    .dataframe tbody tr th:only-of-type {\n",
       "        vertical-align: middle;\n",
       "    }\n",
       "\n",
       "    .dataframe tbody tr th {\n",
       "        vertical-align: top;\n",
       "    }\n",
       "\n",
       "    .dataframe thead th {\n",
       "        text-align: right;\n",
       "    }\n",
       "</style>\n",
       "<table border=\"1\" class=\"dataframe\">\n",
       "  <thead>\n",
       "    <tr style=\"text-align: right;\">\n",
       "      <th></th>\n",
       "      <th>INCIDENT_KEY</th>\n",
       "      <th>OCCUR_DATE</th>\n",
       "      <th>OCCUR_TIME</th>\n",
       "      <th>BORO</th>\n",
       "      <th>PRECINCT</th>\n",
       "      <th>JURISDICTION_CODE</th>\n",
       "      <th>LOCATION_DESC</th>\n",
       "      <th>STATISTICAL_MURDER_FLAG</th>\n",
       "      <th>PERP_AGE_GROUP</th>\n",
       "      <th>PERP_SEX</th>\n",
       "      <th>PERP_RACE</th>\n",
       "      <th>VIC_AGE_GROUP</th>\n",
       "      <th>VIC_SEX</th>\n",
       "      <th>VIC_RACE</th>\n",
       "      <th>X_COORD_CD</th>\n",
       "      <th>Y_COORD_CD</th>\n",
       "      <th>Latitude</th>\n",
       "      <th>Longitude</th>\n",
       "      <th>Lon_Lat</th>\n",
       "    </tr>\n",
       "  </thead>\n",
       "  <tbody>\n",
       "    <tr>\n",
       "      <th>0</th>\n",
       "      <td>236168668</td>\n",
       "      <td>11/11/2021</td>\n",
       "      <td>15:04:00</td>\n",
       "      <td>BROOKLYN</td>\n",
       "      <td>79</td>\n",
       "      <td>0.0</td>\n",
       "      <td>NaN</td>\n",
       "      <td>False</td>\n",
       "      <td>NaN</td>\n",
       "      <td>NaN</td>\n",
       "      <td>NaN</td>\n",
       "      <td>18-24</td>\n",
       "      <td>M</td>\n",
       "      <td>BLACK</td>\n",
       "      <td>996313.0</td>\n",
       "      <td>187499.0</td>\n",
       "      <td>40.681318</td>\n",
       "      <td>-73.956509</td>\n",
       "      <td>POINT (-73.95650899099996 40.68131820000008)</td>\n",
       "    </tr>\n",
       "    <tr>\n",
       "      <th>1</th>\n",
       "      <td>231008085</td>\n",
       "      <td>07/16/2021</td>\n",
       "      <td>22:05:00</td>\n",
       "      <td>BROOKLYN</td>\n",
       "      <td>72</td>\n",
       "      <td>0.0</td>\n",
       "      <td>NaN</td>\n",
       "      <td>False</td>\n",
       "      <td>45-64</td>\n",
       "      <td>M</td>\n",
       "      <td>ASIAN / PACIFIC ISLANDER</td>\n",
       "      <td>25-44</td>\n",
       "      <td>M</td>\n",
       "      <td>ASIAN / PACIFIC ISLANDER</td>\n",
       "      <td>981845.0</td>\n",
       "      <td>171118.0</td>\n",
       "      <td>40.636364</td>\n",
       "      <td>-74.008667</td>\n",
       "      <td>POINT (-74.00866668999998 40.63636384100005)</td>\n",
       "    </tr>\n",
       "    <tr>\n",
       "      <th>2</th>\n",
       "      <td>230717903</td>\n",
       "      <td>07/11/2021</td>\n",
       "      <td>01:09:00</td>\n",
       "      <td>BROOKLYN</td>\n",
       "      <td>79</td>\n",
       "      <td>0.0</td>\n",
       "      <td>NaN</td>\n",
       "      <td>False</td>\n",
       "      <td>&lt;18</td>\n",
       "      <td>M</td>\n",
       "      <td>BLACK</td>\n",
       "      <td>25-44</td>\n",
       "      <td>M</td>\n",
       "      <td>BLACK</td>\n",
       "      <td>996546.0</td>\n",
       "      <td>187436.0</td>\n",
       "      <td>40.681145</td>\n",
       "      <td>-73.955669</td>\n",
       "      <td>POINT (-73.95566903799994 40.68114495900005)</td>\n",
       "    </tr>\n",
       "    <tr>\n",
       "      <th>3</th>\n",
       "      <td>237712309</td>\n",
       "      <td>12/11/2021</td>\n",
       "      <td>13:42:00</td>\n",
       "      <td>BROOKLYN</td>\n",
       "      <td>81</td>\n",
       "      <td>0.0</td>\n",
       "      <td>NaN</td>\n",
       "      <td>False</td>\n",
       "      <td>NaN</td>\n",
       "      <td>NaN</td>\n",
       "      <td>NaN</td>\n",
       "      <td>25-44</td>\n",
       "      <td>M</td>\n",
       "      <td>BLACK</td>\n",
       "      <td>1001139.0</td>\n",
       "      <td>192775.0</td>\n",
       "      <td>40.695792</td>\n",
       "      <td>-73.939096</td>\n",
       "      <td>POINT (-73.939095905 40.69579171600003)</td>\n",
       "    </tr>\n",
       "    <tr>\n",
       "      <th>4</th>\n",
       "      <td>224465521</td>\n",
       "      <td>02/16/2021</td>\n",
       "      <td>20:00:00</td>\n",
       "      <td>QUEENS</td>\n",
       "      <td>113</td>\n",
       "      <td>0.0</td>\n",
       "      <td>NaN</td>\n",
       "      <td>False</td>\n",
       "      <td>NaN</td>\n",
       "      <td>NaN</td>\n",
       "      <td>NaN</td>\n",
       "      <td>25-44</td>\n",
       "      <td>M</td>\n",
       "      <td>BLACK</td>\n",
       "      <td>1050710.0</td>\n",
       "      <td>184826.0</td>\n",
       "      <td>40.673740</td>\n",
       "      <td>-73.760411</td>\n",
       "      <td>POINT (-73.76041066999993 40.67374017600008)</td>\n",
       "    </tr>\n",
       "  </tbody>\n",
       "</table>\n",
       "</div>"
      ],
      "text/plain": [
       "   INCIDENT_KEY  OCCUR_DATE OCCUR_TIME      BORO  PRECINCT  JURISDICTION_CODE  \\\n",
       "0     236168668  11/11/2021   15:04:00  BROOKLYN        79                0.0   \n",
       "1     231008085  07/16/2021   22:05:00  BROOKLYN        72                0.0   \n",
       "2     230717903  07/11/2021   01:09:00  BROOKLYN        79                0.0   \n",
       "3     237712309  12/11/2021   13:42:00  BROOKLYN        81                0.0   \n",
       "4     224465521  02/16/2021   20:00:00    QUEENS       113                0.0   \n",
       "\n",
       "  LOCATION_DESC  STATISTICAL_MURDER_FLAG PERP_AGE_GROUP PERP_SEX  \\\n",
       "0           NaN                    False            NaN      NaN   \n",
       "1           NaN                    False          45-64        M   \n",
       "2           NaN                    False            <18        M   \n",
       "3           NaN                    False            NaN      NaN   \n",
       "4           NaN                    False            NaN      NaN   \n",
       "\n",
       "                  PERP_RACE VIC_AGE_GROUP VIC_SEX                  VIC_RACE  \\\n",
       "0                       NaN         18-24       M                     BLACK   \n",
       "1  ASIAN / PACIFIC ISLANDER         25-44       M  ASIAN / PACIFIC ISLANDER   \n",
       "2                     BLACK         25-44       M                     BLACK   \n",
       "3                       NaN         25-44       M                     BLACK   \n",
       "4                       NaN         25-44       M                     BLACK   \n",
       "\n",
       "   X_COORD_CD  Y_COORD_CD   Latitude  Longitude  \\\n",
       "0    996313.0    187499.0  40.681318 -73.956509   \n",
       "1    981845.0    171118.0  40.636364 -74.008667   \n",
       "2    996546.0    187436.0  40.681145 -73.955669   \n",
       "3   1001139.0    192775.0  40.695792 -73.939096   \n",
       "4   1050710.0    184826.0  40.673740 -73.760411   \n",
       "\n",
       "                                        Lon_Lat  \n",
       "0  POINT (-73.95650899099996 40.68131820000008)  \n",
       "1  POINT (-74.00866668999998 40.63636384100005)  \n",
       "2  POINT (-73.95566903799994 40.68114495900005)  \n",
       "3       POINT (-73.939095905 40.69579171600003)  \n",
       "4  POINT (-73.76041066999993 40.67374017600008)  "
      ]
     },
     "execution_count": 4,
     "metadata": {},
     "output_type": "execute_result"
    }
   ],
   "source": [
    "shooting.head(5)"
   ]
  },
  {
   "cell_type": "code",
   "execution_count": 5,
   "metadata": {},
   "outputs": [
    {
     "data": {
      "text/plain": [
       "Index(['INCIDENT_KEY', 'OCCUR_DATE', 'OCCUR_TIME', 'BORO', 'PRECINCT',\n",
       "       'JURISDICTION_CODE', 'LOCATION_DESC', 'STATISTICAL_MURDER_FLAG',\n",
       "       'PERP_AGE_GROUP', 'PERP_SEX', 'PERP_RACE', 'VIC_AGE_GROUP', 'VIC_SEX',\n",
       "       'VIC_RACE', 'X_COORD_CD', 'Y_COORD_CD', 'Latitude', 'Longitude',\n",
       "       'Lon_Lat'],\n",
       "      dtype='object')"
      ]
     },
     "execution_count": 5,
     "metadata": {},
     "output_type": "execute_result"
    }
   ],
   "source": [
    "shooting.columns"
   ]
  },
  {
   "cell_type": "code",
   "execution_count": 6,
   "metadata": {},
   "outputs": [],
   "source": [
    "# dropping unrequired columns\n",
    "shooting= shooting.drop(['PRECINCT','JURISDICTION_CODE','LOCATION_DESC','X_COORD_CD','Y_COORD_CD','Lon_Lat', 'LOCATION_DESC'], axis=1)"
   ]
  },
  {
   "cell_type": "code",
   "execution_count": 7,
   "metadata": {},
   "outputs": [],
   "source": [
    "# changing all column names to lowercase and renaming the statistical_murder_flag... \n",
    "# column for convenience/ personal preference\n",
    "shooting.columns=shooting.columns.str.lower()\n",
    "shooting = shooting.rename(columns={'statistical_murder_flag': 'murder_flag'})"
   ]
  },
  {
   "cell_type": "code",
   "execution_count": 8,
   "metadata": {},
   "outputs": [
    {
     "name": "stdout",
     "output_type": "stream",
     "text": [
      "<class 'pandas.core.frame.DataFrame'>\n",
      "RangeIndex: 25596 entries, 0 to 25595\n",
      "Data columns (total 13 columns):\n",
      " #   Column          Non-Null Count  Dtype  \n",
      "---  ------          --------------  -----  \n",
      " 0   incident_key    25596 non-null  int64  \n",
      " 1   occur_date      25596 non-null  object \n",
      " 2   occur_time      25596 non-null  object \n",
      " 3   boro            25596 non-null  object \n",
      " 4   murder_flag     25596 non-null  bool   \n",
      " 5   perp_age_group  16252 non-null  object \n",
      " 6   perp_sex        16286 non-null  object \n",
      " 7   perp_race       16286 non-null  object \n",
      " 8   vic_age_group   25596 non-null  object \n",
      " 9   vic_sex         25596 non-null  object \n",
      " 10  vic_race        25596 non-null  object \n",
      " 11  latitude        25596 non-null  float64\n",
      " 12  longitude       25596 non-null  float64\n",
      "dtypes: bool(1), float64(2), int64(1), object(9)\n",
      "memory usage: 2.4+ MB\n"
     ]
    }
   ],
   "source": [
    "# First we will view general information about the dataset in order to know the different...\n",
    "# columns and their respective data types.\n",
    "shooting.info()"
   ]
  },
  {
   "cell_type": "code",
   "execution_count": 9,
   "metadata": {},
   "outputs": [],
   "source": [
    "# Next, we will convert the _occur_date_ and _occur_time_ columns to datetime format\n",
    "shooting['occur_date'] = pd.to_datetime(shooting.occur_date)\n",
    "shooting['occur_time'] = pd.to_datetime(shooting.occur_time)"
   ]
  },
  {
   "cell_type": "code",
   "execution_count": 10,
   "metadata": {},
   "outputs": [
    {
     "data": {
      "text/plain": [
       "(25596, 9344)"
      ]
     },
     "execution_count": 10,
     "metadata": {},
     "output_type": "execute_result"
    }
   ],
   "source": [
    "# Now, we check for null values in the dataset\n",
    "len(shooting), len(shooting[shooting.isnull().any(axis=1)])\n"
   ]
  },
  {
   "attachments": {},
   "cell_type": "markdown",
   "metadata": {},
   "source": [
    "From the result above, there are a total of 25,596 rows in the shooting dataframe. 9,344 rows have NA in one or more cells.\n",
    "\n",
    "In the next step, we will  use a for- loop to check for the number of empty cells for each column the _shooting_ dataframe"
   ]
  },
  {
   "cell_type": "code",
   "execution_count": 11,
   "metadata": {},
   "outputs": [
    {
     "data": {
      "text/html": [
       "<div>\n",
       "<style scoped>\n",
       "    .dataframe tbody tr th:only-of-type {\n",
       "        vertical-align: middle;\n",
       "    }\n",
       "\n",
       "    .dataframe tbody tr th {\n",
       "        vertical-align: top;\n",
       "    }\n",
       "\n",
       "    .dataframe thead th {\n",
       "        text-align: right;\n",
       "    }\n",
       "</style>\n",
       "<table border=\"1\" class=\"dataframe\">\n",
       "  <thead>\n",
       "    <tr style=\"text-align: right;\">\n",
       "      <th></th>\n",
       "      <th>col_name</th>\n",
       "      <th>null_count</th>\n",
       "    </tr>\n",
       "  </thead>\n",
       "  <tbody>\n",
       "    <tr>\n",
       "      <th>0</th>\n",
       "      <td>incident_key</td>\n",
       "      <td>0</td>\n",
       "    </tr>\n",
       "    <tr>\n",
       "      <th>1</th>\n",
       "      <td>occur_date</td>\n",
       "      <td>0</td>\n",
       "    </tr>\n",
       "    <tr>\n",
       "      <th>2</th>\n",
       "      <td>occur_time</td>\n",
       "      <td>0</td>\n",
       "    </tr>\n",
       "    <tr>\n",
       "      <th>3</th>\n",
       "      <td>boro</td>\n",
       "      <td>0</td>\n",
       "    </tr>\n",
       "    <tr>\n",
       "      <th>4</th>\n",
       "      <td>murder_flag</td>\n",
       "      <td>0</td>\n",
       "    </tr>\n",
       "    <tr>\n",
       "      <th>5</th>\n",
       "      <td>perp_age_group</td>\n",
       "      <td>9344</td>\n",
       "    </tr>\n",
       "    <tr>\n",
       "      <th>6</th>\n",
       "      <td>perp_sex</td>\n",
       "      <td>9310</td>\n",
       "    </tr>\n",
       "    <tr>\n",
       "      <th>7</th>\n",
       "      <td>perp_race</td>\n",
       "      <td>9310</td>\n",
       "    </tr>\n",
       "    <tr>\n",
       "      <th>8</th>\n",
       "      <td>vic_age_group</td>\n",
       "      <td>0</td>\n",
       "    </tr>\n",
       "    <tr>\n",
       "      <th>9</th>\n",
       "      <td>vic_sex</td>\n",
       "      <td>0</td>\n",
       "    </tr>\n",
       "    <tr>\n",
       "      <th>10</th>\n",
       "      <td>vic_race</td>\n",
       "      <td>0</td>\n",
       "    </tr>\n",
       "    <tr>\n",
       "      <th>11</th>\n",
       "      <td>latitude</td>\n",
       "      <td>0</td>\n",
       "    </tr>\n",
       "    <tr>\n",
       "      <th>12</th>\n",
       "      <td>longitude</td>\n",
       "      <td>0</td>\n",
       "    </tr>\n",
       "  </tbody>\n",
       "</table>\n",
       "</div>"
      ],
      "text/plain": [
       "          col_name  null_count\n",
       "0     incident_key           0\n",
       "1       occur_date           0\n",
       "2       occur_time           0\n",
       "3             boro           0\n",
       "4      murder_flag           0\n",
       "5   perp_age_group        9344\n",
       "6         perp_sex        9310\n",
       "7        perp_race        9310\n",
       "8    vic_age_group           0\n",
       "9          vic_sex           0\n",
       "10        vic_race           0\n",
       "11        latitude           0\n",
       "12       longitude           0"
      ]
     },
     "execution_count": 11,
     "metadata": {},
     "output_type": "execute_result"
    }
   ],
   "source": [
    "# We check for the number of null cellss in each column of the data\n",
    "cols = list(shooting.columns)\n",
    "\n",
    "\n",
    "col_null_count = []\n",
    "for col in cols:\n",
    "    col_null_count.append( len(shooting[shooting[col].isna()]))\n",
    "\n",
    "\n",
    "pd.DataFrame(list(zip(cols, col_null_count)), columns =['col_name', 'null_count'])"
   ]
  },
  {
   "attachments": {},
   "cell_type": "markdown",
   "metadata": {},
   "source": [
    "From result above, we can see that there are 9344, 9310 and 9310 null instances in the columns perp_age_group, perp_sex, perp_race respectively. These are the instances where the perpetrator of a shooting is unknown and has not been apprehended by the security forces. We will keep this in mind as we proceed with the project."
   ]
  },
  {
   "attachments": {},
   "cell_type": "markdown",
   "metadata": {},
   "source": [
    "**Quick review and pre-processing of the _boro_pop_ dataset**"
   ]
  },
  {
   "cell_type": "code",
   "execution_count": 12,
   "metadata": {},
   "outputs": [
    {
     "data": {
      "text/html": [
       "<div>\n",
       "<style scoped>\n",
       "    .dataframe tbody tr th:only-of-type {\n",
       "        vertical-align: middle;\n",
       "    }\n",
       "\n",
       "    .dataframe tbody tr th {\n",
       "        vertical-align: top;\n",
       "    }\n",
       "\n",
       "    .dataframe thead th {\n",
       "        text-align: right;\n",
       "    }\n",
       "</style>\n",
       "<table border=\"1\" class=\"dataframe\">\n",
       "  <thead>\n",
       "    <tr style=\"text-align: right;\">\n",
       "      <th></th>\n",
       "      <th>Age Group</th>\n",
       "      <th>Borough</th>\n",
       "      <th>1950</th>\n",
       "      <th>1950 - Boro share of NYC total</th>\n",
       "      <th>1960</th>\n",
       "      <th>1960 - Boro share of NYC total</th>\n",
       "      <th>1970</th>\n",
       "      <th>1970 - Boro share of NYC total</th>\n",
       "      <th>1980</th>\n",
       "      <th>1980 - Boro share of NYC total</th>\n",
       "      <th>...</th>\n",
       "      <th>2000</th>\n",
       "      <th>2000 - Boro share of NYC total</th>\n",
       "      <th>2010</th>\n",
       "      <th>2010 - Boro share of NYC total</th>\n",
       "      <th>2020</th>\n",
       "      <th>2020 - Boro share of NYC total</th>\n",
       "      <th>2030</th>\n",
       "      <th>2030 - Boro share of NYC total</th>\n",
       "      <th>2040</th>\n",
       "      <th>2040 - Boro share of NYC total</th>\n",
       "    </tr>\n",
       "  </thead>\n",
       "  <tbody>\n",
       "    <tr>\n",
       "      <th>0</th>\n",
       "      <td>Total Population</td>\n",
       "      <td>NYC Total</td>\n",
       "      <td>7891957</td>\n",
       "      <td>100.00</td>\n",
       "      <td>7781984</td>\n",
       "      <td>100.00</td>\n",
       "      <td>7894862</td>\n",
       "      <td>100.00</td>\n",
       "      <td>7071639</td>\n",
       "      <td>100.00</td>\n",
       "      <td>...</td>\n",
       "      <td>8008278</td>\n",
       "      <td>100.00</td>\n",
       "      <td>8242624</td>\n",
       "      <td>100.00</td>\n",
       "      <td>8550971</td>\n",
       "      <td>100.00</td>\n",
       "      <td>8821027</td>\n",
       "      <td>100.00</td>\n",
       "      <td>9025145</td>\n",
       "      <td>100.00</td>\n",
       "    </tr>\n",
       "    <tr>\n",
       "      <th>1</th>\n",
       "      <td>Total Population</td>\n",
       "      <td>Bronx</td>\n",
       "      <td>1451277</td>\n",
       "      <td>18.39</td>\n",
       "      <td>1424815</td>\n",
       "      <td>18.31</td>\n",
       "      <td>1471701</td>\n",
       "      <td>18.64</td>\n",
       "      <td>1168972</td>\n",
       "      <td>16.53</td>\n",
       "      <td>...</td>\n",
       "      <td>1332650</td>\n",
       "      <td>16.64</td>\n",
       "      <td>1385108</td>\n",
       "      <td>16.80</td>\n",
       "      <td>1446788</td>\n",
       "      <td>16.92</td>\n",
       "      <td>1518998</td>\n",
       "      <td>17.22</td>\n",
       "      <td>1579245</td>\n",
       "      <td>17.50</td>\n",
       "    </tr>\n",
       "    <tr>\n",
       "      <th>2</th>\n",
       "      <td>Total Population</td>\n",
       "      <td>Brooklyn</td>\n",
       "      <td>2738175</td>\n",
       "      <td>34.70</td>\n",
       "      <td>2627319</td>\n",
       "      <td>33.76</td>\n",
       "      <td>2602012</td>\n",
       "      <td>32.96</td>\n",
       "      <td>2230936</td>\n",
       "      <td>31.55</td>\n",
       "      <td>...</td>\n",
       "      <td>2465326</td>\n",
       "      <td>30.78</td>\n",
       "      <td>2552911</td>\n",
       "      <td>30.97</td>\n",
       "      <td>2648452</td>\n",
       "      <td>30.97</td>\n",
       "      <td>2754009</td>\n",
       "      <td>31.22</td>\n",
       "      <td>2840525</td>\n",
       "      <td>31.47</td>\n",
       "    </tr>\n",
       "    <tr>\n",
       "      <th>3</th>\n",
       "      <td>Total Population</td>\n",
       "      <td>Manhattan</td>\n",
       "      <td>1960101</td>\n",
       "      <td>24.84</td>\n",
       "      <td>1698281</td>\n",
       "      <td>21.82</td>\n",
       "      <td>1539233</td>\n",
       "      <td>19.50</td>\n",
       "      <td>1428285</td>\n",
       "      <td>20.20</td>\n",
       "      <td>...</td>\n",
       "      <td>1537195</td>\n",
       "      <td>19.20</td>\n",
       "      <td>1585873</td>\n",
       "      <td>19.24</td>\n",
       "      <td>1638281</td>\n",
       "      <td>19.16</td>\n",
       "      <td>1676720</td>\n",
       "      <td>19.01</td>\n",
       "      <td>1691617</td>\n",
       "      <td>18.74</td>\n",
       "    </tr>\n",
       "    <tr>\n",
       "      <th>4</th>\n",
       "      <td>Total Population</td>\n",
       "      <td>Queens</td>\n",
       "      <td>1550849</td>\n",
       "      <td>19.65</td>\n",
       "      <td>1809578</td>\n",
       "      <td>23.25</td>\n",
       "      <td>1986473</td>\n",
       "      <td>25.16</td>\n",
       "      <td>1891325</td>\n",
       "      <td>26.75</td>\n",
       "      <td>...</td>\n",
       "      <td>2229379</td>\n",
       "      <td>27.84</td>\n",
       "      <td>2250002</td>\n",
       "      <td>27.30</td>\n",
       "      <td>2330295</td>\n",
       "      <td>27.25</td>\n",
       "      <td>2373551</td>\n",
       "      <td>26.91</td>\n",
       "      <td>2412649</td>\n",
       "      <td>26.73</td>\n",
       "    </tr>\n",
       "    <tr>\n",
       "      <th>5</th>\n",
       "      <td>Total Population</td>\n",
       "      <td>Staten Island</td>\n",
       "      <td>191555</td>\n",
       "      <td>2.43</td>\n",
       "      <td>221991</td>\n",
       "      <td>2.85</td>\n",
       "      <td>295443</td>\n",
       "      <td>3.74</td>\n",
       "      <td>352121</td>\n",
       "      <td>4.98</td>\n",
       "      <td>...</td>\n",
       "      <td>443728</td>\n",
       "      <td>5.54</td>\n",
       "      <td>468730</td>\n",
       "      <td>5.69</td>\n",
       "      <td>487155</td>\n",
       "      <td>5.70</td>\n",
       "      <td>497749</td>\n",
       "      <td>5.64</td>\n",
       "      <td>501109</td>\n",
       "      <td>5.55</td>\n",
       "    </tr>\n",
       "  </tbody>\n",
       "</table>\n",
       "<p>6 rows × 22 columns</p>\n",
       "</div>"
      ],
      "text/plain": [
       "          Age Group           Borough     1950  \\\n",
       "0  Total Population         NYC Total  7891957   \n",
       "1  Total Population             Bronx  1451277   \n",
       "2  Total Population          Brooklyn  2738175   \n",
       "3  Total Population         Manhattan  1960101   \n",
       "4  Total Population            Queens  1550849   \n",
       "5  Total Population     Staten Island   191555   \n",
       "\n",
       "   1950 - Boro share of NYC total     1960  1960 - Boro share of NYC total  \\\n",
       "0                          100.00  7781984                          100.00   \n",
       "1                           18.39  1424815                           18.31   \n",
       "2                           34.70  2627319                           33.76   \n",
       "3                           24.84  1698281                           21.82   \n",
       "4                           19.65  1809578                           23.25   \n",
       "5                            2.43   221991                            2.85   \n",
       "\n",
       "      1970  1970 - Boro share of NYC total     1980  \\\n",
       "0  7894862                          100.00  7071639   \n",
       "1  1471701                           18.64  1168972   \n",
       "2  2602012                           32.96  2230936   \n",
       "3  1539233                           19.50  1428285   \n",
       "4  1986473                           25.16  1891325   \n",
       "5   295443                            3.74   352121   \n",
       "\n",
       "   1980 - Boro share of NYC total  ...     2000  \\\n",
       "0                          100.00  ...  8008278   \n",
       "1                           16.53  ...  1332650   \n",
       "2                           31.55  ...  2465326   \n",
       "3                           20.20  ...  1537195   \n",
       "4                           26.75  ...  2229379   \n",
       "5                            4.98  ...   443728   \n",
       "\n",
       "   2000 - Boro share of NYC total     2010  2010 - Boro share of NYC total  \\\n",
       "0                          100.00  8242624                          100.00   \n",
       "1                           16.64  1385108                           16.80   \n",
       "2                           30.78  2552911                           30.97   \n",
       "3                           19.20  1585873                           19.24   \n",
       "4                           27.84  2250002                           27.30   \n",
       "5                            5.54   468730                            5.69   \n",
       "\n",
       "      2020  2020 - Boro share of NYC total     2030  \\\n",
       "0  8550971                          100.00  8821027   \n",
       "1  1446788                           16.92  1518998   \n",
       "2  2648452                           30.97  2754009   \n",
       "3  1638281                           19.16  1676720   \n",
       "4  2330295                           27.25  2373551   \n",
       "5   487155                            5.70   497749   \n",
       "\n",
       "   2030 - Boro share of NYC total     2040  2040 - Boro share of NYC total  \n",
       "0                          100.00  9025145                          100.00  \n",
       "1                           17.22  1579245                           17.50  \n",
       "2                           31.22  2840525                           31.47  \n",
       "3                           19.01  1691617                           18.74  \n",
       "4                           26.91  2412649                           26.73  \n",
       "5                            5.64   501109                            5.55  \n",
       "\n",
       "[6 rows x 22 columns]"
      ]
     },
     "execution_count": 12,
     "metadata": {},
     "output_type": "execute_result"
    }
   ],
   "source": [
    "boro_pop"
   ]
  },
  {
   "cell_type": "code",
   "execution_count": 13,
   "metadata": {},
   "outputs": [],
   "source": [
    "# Extracting only the required columns from the boro_pop dataset\n",
    "boro_pop = boro_pop[['Borough','2020']]"
   ]
  },
  {
   "cell_type": "code",
   "execution_count": 14,
   "metadata": {},
   "outputs": [],
   "source": [
    "# renaming the columns for uniformity and easy understanding. This will be vital for merge operation which \n",
    "# will be performed later in this project\n",
    "boro_pop= boro_pop.rename(columns={'Borough':'boro', '2020':'population'})"
   ]
  },
  {
   "cell_type": "code",
   "execution_count": 15,
   "metadata": {},
   "outputs": [
    {
     "data": {
      "text/html": [
       "<div>\n",
       "<style scoped>\n",
       "    .dataframe tbody tr th:only-of-type {\n",
       "        vertical-align: middle;\n",
       "    }\n",
       "\n",
       "    .dataframe tbody tr th {\n",
       "        vertical-align: top;\n",
       "    }\n",
       "\n",
       "    .dataframe thead th {\n",
       "        text-align: right;\n",
       "    }\n",
       "</style>\n",
       "<table border=\"1\" class=\"dataframe\">\n",
       "  <thead>\n",
       "    <tr style=\"text-align: right;\">\n",
       "      <th></th>\n",
       "      <th>boro</th>\n",
       "      <th>population</th>\n",
       "    </tr>\n",
       "  </thead>\n",
       "  <tbody>\n",
       "    <tr>\n",
       "      <th>0</th>\n",
       "      <td>NYC TOTAL</td>\n",
       "      <td>8550971</td>\n",
       "    </tr>\n",
       "    <tr>\n",
       "      <th>1</th>\n",
       "      <td>BRONX</td>\n",
       "      <td>1446788</td>\n",
       "    </tr>\n",
       "    <tr>\n",
       "      <th>2</th>\n",
       "      <td>BROOKLYN</td>\n",
       "      <td>2648452</td>\n",
       "    </tr>\n",
       "    <tr>\n",
       "      <th>3</th>\n",
       "      <td>MANHATTAN</td>\n",
       "      <td>1638281</td>\n",
       "    </tr>\n",
       "    <tr>\n",
       "      <th>4</th>\n",
       "      <td>QUEENS</td>\n",
       "      <td>2330295</td>\n",
       "    </tr>\n",
       "    <tr>\n",
       "      <th>5</th>\n",
       "      <td>STATEN ISLAND</td>\n",
       "      <td>487155</td>\n",
       "    </tr>\n",
       "  </tbody>\n",
       "</table>\n",
       "</div>"
      ],
      "text/plain": [
       "            boro  population\n",
       "0      NYC TOTAL     8550971\n",
       "1          BRONX     1446788\n",
       "2       BROOKLYN     2648452\n",
       "3      MANHATTAN     1638281\n",
       "4         QUEENS     2330295\n",
       "5  STATEN ISLAND      487155"
      ]
     },
     "execution_count": 15,
     "metadata": {},
     "output_type": "execute_result"
    }
   ],
   "source": [
    "# stripping leading and trailing whitespaces from the records in the boro column. From previous handling of the...\n",
    "# dataset, it was discovered that there are leading white spaces in the boro column, leading to incorrect...\n",
    "# result of PD Merge (which will  be performed later in this project)\n",
    "boro_pop['boro'] = boro_pop['boro'].str.strip()\n",
    "boro_pop['boro'] = boro_pop['boro'].str.upper()\n",
    "boro_pop"
   ]
  },
  {
   "cell_type": "markdown",
   "metadata": {},
   "source": [
    "**Quick review and pre-processing of the _boro_boundary_ dataset**"
   ]
  },
  {
   "cell_type": "code",
   "execution_count": 16,
   "metadata": {},
   "outputs": [
    {
     "data": {
      "text/html": [
       "<div>\n",
       "<style scoped>\n",
       "    .dataframe tbody tr th:only-of-type {\n",
       "        vertical-align: middle;\n",
       "    }\n",
       "\n",
       "    .dataframe tbody tr th {\n",
       "        vertical-align: top;\n",
       "    }\n",
       "\n",
       "    .dataframe thead th {\n",
       "        text-align: right;\n",
       "    }\n",
       "</style>\n",
       "<table border=\"1\" class=\"dataframe\">\n",
       "  <thead>\n",
       "    <tr style=\"text-align: right;\">\n",
       "      <th></th>\n",
       "      <th>boro_code</th>\n",
       "      <th>boro_name</th>\n",
       "      <th>shape_area</th>\n",
       "      <th>shape_leng</th>\n",
       "      <th>geometry</th>\n",
       "    </tr>\n",
       "  </thead>\n",
       "  <tbody>\n",
       "    <tr>\n",
       "      <th>0</th>\n",
       "      <td>5</td>\n",
       "      <td>Staten Island</td>\n",
       "      <td>1623620725.06</td>\n",
       "      <td>325917.353702</td>\n",
       "      <td>MULTIPOLYGON (((-74.05051 40.56642, -74.05047 ...</td>\n",
       "    </tr>\n",
       "    <tr>\n",
       "      <th>1</th>\n",
       "      <td>2</td>\n",
       "      <td>Bronx</td>\n",
       "      <td>1187182350.92</td>\n",
       "      <td>463176.004334</td>\n",
       "      <td>MULTIPOLYGON (((-73.89681 40.79581, -73.89694 ...</td>\n",
       "    </tr>\n",
       "    <tr>\n",
       "      <th>2</th>\n",
       "      <td>3</td>\n",
       "      <td>Brooklyn</td>\n",
       "      <td>1934229471.99</td>\n",
       "      <td>728263.543413</td>\n",
       "      <td>MULTIPOLYGON (((-73.86327 40.58388, -73.86381 ...</td>\n",
       "    </tr>\n",
       "    <tr>\n",
       "      <th>3</th>\n",
       "      <td>1</td>\n",
       "      <td>Manhattan</td>\n",
       "      <td>636520830.696</td>\n",
       "      <td>357564.317228</td>\n",
       "      <td>MULTIPOLYGON (((-74.01093 40.68449, -74.01193 ...</td>\n",
       "    </tr>\n",
       "    <tr>\n",
       "      <th>4</th>\n",
       "      <td>4</td>\n",
       "      <td>Queens</td>\n",
       "      <td>3041418543.49</td>\n",
       "      <td>888199.780587</td>\n",
       "      <td>MULTIPOLYGON (((-73.82645 40.59053, -73.82642 ...</td>\n",
       "    </tr>\n",
       "  </tbody>\n",
       "</table>\n",
       "</div>"
      ],
      "text/plain": [
       "  boro_code      boro_name     shape_area     shape_leng  \\\n",
       "0         5  Staten Island  1623620725.06  325917.353702   \n",
       "1         2          Bronx  1187182350.92  463176.004334   \n",
       "2         3       Brooklyn  1934229471.99  728263.543413   \n",
       "3         1      Manhattan  636520830.696  357564.317228   \n",
       "4         4         Queens  3041418543.49  888199.780587   \n",
       "\n",
       "                                            geometry  \n",
       "0  MULTIPOLYGON (((-74.05051 40.56642, -74.05047 ...  \n",
       "1  MULTIPOLYGON (((-73.89681 40.79581, -73.89694 ...  \n",
       "2  MULTIPOLYGON (((-73.86327 40.58388, -73.86381 ...  \n",
       "3  MULTIPOLYGON (((-74.01093 40.68449, -74.01193 ...  \n",
       "4  MULTIPOLYGON (((-73.82645 40.59053, -73.82642 ...  "
      ]
     },
     "execution_count": 16,
     "metadata": {},
     "output_type": "execute_result"
    }
   ],
   "source": [
    "boro_boundary"
   ]
  },
  {
   "cell_type": "code",
   "execution_count": 17,
   "metadata": {},
   "outputs": [
    {
     "data": {
      "text/html": [
       "<div>\n",
       "<style scoped>\n",
       "    .dataframe tbody tr th:only-of-type {\n",
       "        vertical-align: middle;\n",
       "    }\n",
       "\n",
       "    .dataframe tbody tr th {\n",
       "        vertical-align: top;\n",
       "    }\n",
       "\n",
       "    .dataframe thead th {\n",
       "        text-align: right;\n",
       "    }\n",
       "</style>\n",
       "<table border=\"1\" class=\"dataframe\">\n",
       "  <thead>\n",
       "    <tr style=\"text-align: right;\">\n",
       "      <th></th>\n",
       "      <th>boro_code</th>\n",
       "      <th>boro</th>\n",
       "      <th>shape_area</th>\n",
       "      <th>shape_leng</th>\n",
       "      <th>geometry</th>\n",
       "    </tr>\n",
       "  </thead>\n",
       "  <tbody>\n",
       "    <tr>\n",
       "      <th>0</th>\n",
       "      <td>5</td>\n",
       "      <td>STATEN ISLAND</td>\n",
       "      <td>1623620725.06</td>\n",
       "      <td>325917.353702</td>\n",
       "      <td>MULTIPOLYGON (((-74.05051 40.56642, -74.05047 ...</td>\n",
       "    </tr>\n",
       "    <tr>\n",
       "      <th>1</th>\n",
       "      <td>2</td>\n",
       "      <td>BRONX</td>\n",
       "      <td>1187182350.92</td>\n",
       "      <td>463176.004334</td>\n",
       "      <td>MULTIPOLYGON (((-73.89681 40.79581, -73.89694 ...</td>\n",
       "    </tr>\n",
       "    <tr>\n",
       "      <th>2</th>\n",
       "      <td>3</td>\n",
       "      <td>BROOKLYN</td>\n",
       "      <td>1934229471.99</td>\n",
       "      <td>728263.543413</td>\n",
       "      <td>MULTIPOLYGON (((-73.86327 40.58388, -73.86381 ...</td>\n",
       "    </tr>\n",
       "    <tr>\n",
       "      <th>3</th>\n",
       "      <td>1</td>\n",
       "      <td>MANHATTAN</td>\n",
       "      <td>636520830.696</td>\n",
       "      <td>357564.317228</td>\n",
       "      <td>MULTIPOLYGON (((-74.01093 40.68449, -74.01193 ...</td>\n",
       "    </tr>\n",
       "    <tr>\n",
       "      <th>4</th>\n",
       "      <td>4</td>\n",
       "      <td>QUEENS</td>\n",
       "      <td>3041418543.49</td>\n",
       "      <td>888199.780587</td>\n",
       "      <td>MULTIPOLYGON (((-73.82645 40.59053, -73.82642 ...</td>\n",
       "    </tr>\n",
       "  </tbody>\n",
       "</table>\n",
       "</div>"
      ],
      "text/plain": [
       "  boro_code           boro     shape_area     shape_leng  \\\n",
       "0         5  STATEN ISLAND  1623620725.06  325917.353702   \n",
       "1         2          BRONX  1187182350.92  463176.004334   \n",
       "2         3       BROOKLYN  1934229471.99  728263.543413   \n",
       "3         1      MANHATTAN  636520830.696  357564.317228   \n",
       "4         4         QUEENS  3041418543.49  888199.780587   \n",
       "\n",
       "                                            geometry  \n",
       "0  MULTIPOLYGON (((-74.05051 40.56642, -74.05047 ...  \n",
       "1  MULTIPOLYGON (((-73.89681 40.79581, -73.89694 ...  \n",
       "2  MULTIPOLYGON (((-73.86327 40.58388, -73.86381 ...  \n",
       "3  MULTIPOLYGON (((-74.01093 40.68449, -74.01193 ...  \n",
       "4  MULTIPOLYGON (((-73.82645 40.59053, -73.82642 ...  "
      ]
     },
     "execution_count": 17,
     "metadata": {},
     "output_type": "execute_result"
    }
   ],
   "source": [
    "# renaming the columns for uniformity and easy understanding and changing the values in that colun to uppercase.\n",
    "# These steps are vital for the success of the merge operation which will be performed later in this project\n",
    " \n",
    "boro_boundary = boro_boundary.rename(columns={'boro_name': 'boro'})\n",
    "boro_boundary['boro'] = boro_boundary['boro'].str.upper()\n",
    "boro_boundary"
   ]
  },
  {
   "cell_type": "code",
   "execution_count": 18,
   "metadata": {},
   "outputs": [],
   "source": [
    "# Creating 'year' column in the 'shooting' dataset by extracting the year of occurence from occur_date column\n",
    "shooting['year']= shooting[\"occur_date\"].dt.year"
   ]
  },
  {
   "cell_type": "code",
   "execution_count": 19,
   "metadata": {},
   "outputs": [],
   "source": [
    "# Adding a column with the value 'TOTAL' . This will be useful for later visualisations\n",
    "shooting['total']= 'TOTAL'"
   ]
  },
  {
   "attachments": {},
   "cell_type": "markdown",
   "metadata": {},
   "source": [
    "Writing our cleaned/pre-processed data to file"
   ]
  },
  {
   "cell_type": "markdown",
   "metadata": {},
   "source": [
    "After reviewing and pre-processing the datasets , we can now explore and visualise the data"
   ]
  },
  {
   "cell_type": "code",
   "execution_count": 20,
   "metadata": {},
   "outputs": [],
   "source": [
    "shooting.to_pickle('./Data/Cleaned/shooting.pkl')\n",
    "boro_pop.to_pickle('./Data/Cleaned/boro_pop.pkl')\n",
    "boro_boundary.to_pickle('./Data/Cleaned/boro_boundary.pkl')"
   ]
  },
  {
   "cell_type": "code",
   "execution_count": 27,
   "metadata": {},
   "outputs": [
    {
     "data": {
      "application/vnd.vegalite.v4+json": {
       "$schema": "https://vega.github.io/schema/vega-lite/v4.17.0.json",
       "data": {
        "name": "data-89f1c4e69698a792a838760f428db649"
       },
       "datasets": {
        "data-89f1c4e69698a792a838760f428db649": [
         {
          "boro": "NYC TOTAL",
          "population": 8550971
         },
         {
          "boro": "BRONX",
          "population": 1446788
         },
         {
          "boro": "BROOKLYN",
          "population": 2648452
         },
         {
          "boro": "MANHATTAN",
          "population": 1638281
         },
         {
          "boro": "QUEENS",
          "population": 2330295
         },
         {
          "boro": "STATEN ISLAND",
          "population": 487155
         }
        ]
       },
       "encoding": {
        "x": {
         "field": "boro",
         "type": "nominal"
        },
        "y": {
         "aggregate": "count",
         "field": "population",
         "type": "quantitative"
        }
       },
       "mark": {
        "tooltip": true,
        "type": "bar"
       }
      },
      "text/plain": [
       "<VegaLite 4 object>\n",
       "\n",
       "If you see this message, it means the renderer has not been properly enabled\n",
       "for the frontend that you are using. For more information, see\n",
       "https://altair-viz.github.io/user_guide/troubleshooting.html\n"
      ]
     },
     "execution_count": 27,
     "metadata": {},
     "output_type": "execute_result"
    }
   ],
   "source": [
    "chart = alt.Chart(boro_pop).mark_bar(tooltip= True).encode(\n",
    "    x= alt.X(\"boro:N\"),\n",
    "    y=alt.Y(\"count(population)\"))\n",
    "\n",
    "alt.renderers.enable('mimetype')\n",
    "chart\n",
    "\n"
   ]
  },
  {
   "cell_type": "code",
   "execution_count": 22,
   "metadata": {},
   "outputs": [
    {
     "data": {
      "application/vnd.vegalite.v4+json": {
       "$schema": "https://vega.github.io/schema/vega-lite/v4.17.0.json",
       "data": {
        "name": "data-89f1c4e69698a792a838760f428db649"
       },
       "datasets": {
        "data-89f1c4e69698a792a838760f428db649": [
         {
          "boro": "NYC TOTAL",
          "population": 8550971
         },
         {
          "boro": "BRONX",
          "population": 1446788
         },
         {
          "boro": "BROOKLYN",
          "population": 2648452
         },
         {
          "boro": "MANHATTAN",
          "population": 1638281
         },
         {
          "boro": "QUEENS",
          "population": 2330295
         },
         {
          "boro": "STATEN ISLAND",
          "population": 487155
         }
        ]
       },
       "encoding": {
        "x": {
         "field": "boro",
         "type": "nominal"
        },
        "y": {
         "aggregate": "count",
         "field": "population",
         "type": "quantitative"
        }
       },
       "mark": {
        "tooltip": true,
        "type": "bar"
       }
      },
      "text/plain": [
       "<VegaLite 4 object>\n",
       "\n",
       "If you see this message, it means the renderer has not been properly enabled\n",
       "for the frontend that you are using. For more information, see\n",
       "https://altair-viz.github.io/user_guide/troubleshooting.html\n"
      ]
     },
     "execution_count": 22,
     "metadata": {
      "application/vnd.vegalite.v4+json": {
       "inline": true
      }
     },
     "output_type": "execute_result"
    }
   ],
   "source": [
    "alt.renderers\n",
    "\n",
    "chart"
   ]
  }
 ],
 "metadata": {
  "kernelspec": {
   "display_name": "Geoviz",
   "language": "python",
   "name": "python3"
  },
  "language_info": {
   "codemirror_mode": {
    "name": "ipython",
    "version": 3
   },
   "file_extension": ".py",
   "mimetype": "text/x-python",
   "name": "python",
   "nbconvert_exporter": "python",
   "pygments_lexer": "ipython3",
   "version": "3.10.7"
  },
  "orig_nbformat": 4
 },
 "nbformat": 4,
 "nbformat_minor": 2
}
